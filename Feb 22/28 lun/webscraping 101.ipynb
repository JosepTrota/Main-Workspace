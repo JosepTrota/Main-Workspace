{
 "cells": [
  {
   "cell_type": "code",
   "execution_count": 1,
   "id": "1eb4187b",
   "metadata": {},
   "outputs": [],
   "source": [
    "import requests\n",
    "from bs4 import BeautifulSoup"
   ]
  },
  {
   "cell_type": "code",
   "execution_count": 2,
   "id": "16d1a9f2",
   "metadata": {},
   "outputs": [],
   "source": [
    "html_doc=\"\"\"\n",
    "<!DOCTYPE html>\n",
    "<html><head><title>The Dormouse's story</title></head>\n",
    "<body>\n",
    "<p class=\"title\"><b>The Dormouse's story</b></p>\n",
    "\n",
    "<p class=\"story\">Once upon a time there were three little sisters; and their names were\n",
    "<a href=\"http://example.com/elsie\" class=\"sister\" id=\"link1\">Elsie</a>,\n",
    "<a href=\"http://example.com/lacie\" class=\"sister\" id=\"link2\">Lacie</a> and\n",
    "<a href=\"http://example.com/tillie\" class=\"sister\" id=\"link3\">Tillie</a>;\n",
    "and they lived at the bottom of a well.</p>\n",
    "\n",
    "<p class=\"story\">...</p>\n",
    "</html>\n",
    "\"\"\""
   ]
  },
  {
   "cell_type": "code",
   "execution_count": 3,
   "id": "ec93dc9e",
   "metadata": {},
   "outputs": [],
   "source": [
    "soup=BeautifulSoup(html_doc, 'html.parser')"
   ]
  },
  {
   "cell_type": "code",
   "execution_count": 4,
   "id": "eacd1c61",
   "metadata": {},
   "outputs": [
    {
     "name": "stdout",
     "output_type": "stream",
     "text": [
      "<!DOCTYPE html>\n",
      "<html>\n",
      " <head>\n",
      "  <title>\n",
      "   The Dormouse's story\n",
      "  </title>\n",
      " </head>\n",
      " <body>\n",
      "  <p class=\"title\">\n",
      "   <b>\n",
      "    The Dormouse's story\n",
      "   </b>\n",
      "  </p>\n",
      "  <p class=\"story\">\n",
      "   Once upon a time there were three little sisters; and their names were\n",
      "   <a class=\"sister\" href=\"http://example.com/elsie\" id=\"link1\">\n",
      "    Elsie\n",
      "   </a>\n",
      "   ,\n",
      "   <a class=\"sister\" href=\"http://example.com/lacie\" id=\"link2\">\n",
      "    Lacie\n",
      "   </a>\n",
      "   and\n",
      "   <a class=\"sister\" href=\"http://example.com/tillie\" id=\"link3\">\n",
      "    Tillie\n",
      "   </a>\n",
      "   ;\n",
      "and they lived at the bottom of a well.\n",
      "  </p>\n",
      "  <p class=\"story\">\n",
      "   ...\n",
      "  </p>\n",
      " </body>\n",
      "</html>\n",
      "\n"
     ]
    }
   ],
   "source": [
    "print(soup.prettify())"
   ]
  },
  {
   "cell_type": "markdown",
   "id": "5489d19c",
   "metadata": {},
   "source": [
    "### HTML to select elements"
   ]
  },
  {
   "cell_type": "code",
   "execution_count": 5,
   "id": "743beb34",
   "metadata": {},
   "outputs": [
    {
     "data": {
      "text/plain": [
       "<title>The Dormouse's story</title>"
      ]
     },
     "execution_count": 5,
     "metadata": {},
     "output_type": "execute_result"
    }
   ],
   "source": [
    "soup.title"
   ]
  },
  {
   "cell_type": "code",
   "execution_count": 6,
   "id": "eec07ffd",
   "metadata": {},
   "outputs": [
    {
     "data": {
      "text/plain": [
       "<body>\n",
       "<p class=\"title\"><b>The Dormouse's story</b></p>\n",
       "<p class=\"story\">Once upon a time there were three little sisters; and their names were\n",
       "<a class=\"sister\" href=\"http://example.com/elsie\" id=\"link1\">Elsie</a>,\n",
       "<a class=\"sister\" href=\"http://example.com/lacie\" id=\"link2\">Lacie</a> and\n",
       "<a class=\"sister\" href=\"http://example.com/tillie\" id=\"link3\">Tillie</a>;\n",
       "and they lived at the bottom of a well.</p>\n",
       "<p class=\"story\">...</p>\n",
       "</body>"
      ]
     },
     "execution_count": 6,
     "metadata": {},
     "output_type": "execute_result"
    }
   ],
   "source": [
    "soup.body"
   ]
  },
  {
   "cell_type": "code",
   "execution_count": 7,
   "id": "e2191c7b",
   "metadata": {},
   "outputs": [
    {
     "data": {
      "text/plain": [
       "[<p class=\"title\"><b>The Dormouse's story</b></p>,\n",
       " <p class=\"story\">Once upon a time there were three little sisters; and their names were\n",
       " <a class=\"sister\" href=\"http://example.com/elsie\" id=\"link1\">Elsie</a>,\n",
       " <a class=\"sister\" href=\"http://example.com/lacie\" id=\"link2\">Lacie</a> and\n",
       " <a class=\"sister\" href=\"http://example.com/tillie\" id=\"link3\">Tillie</a>;\n",
       " and they lived at the bottom of a well.</p>,\n",
       " <p class=\"story\">...</p>]"
      ]
     },
     "execution_count": 7,
     "metadata": {},
     "output_type": "execute_result"
    }
   ],
   "source": [
    "p_tags=soup.find_all('p')\n",
    "p_tags"
   ]
  },
  {
   "cell_type": "code",
   "execution_count": 8,
   "id": "df57aec4",
   "metadata": {},
   "outputs": [
    {
     "name": "stdout",
     "output_type": "stream",
     "text": [
      "The Dormouse's story\n",
      "Once upon a time there were three little sisters; and their names were\n",
      "Elsie,\n",
      "Lacie and\n",
      "Tillie;\n",
      "and they lived at the bottom of a well.\n",
      "...\n"
     ]
    }
   ],
   "source": [
    "for p in p_tags:\n",
    "    print (p.get_text())"
   ]
  },
  {
   "cell_type": "code",
   "execution_count": 9,
   "id": "d7536180",
   "metadata": {},
   "outputs": [
    {
     "data": {
      "text/plain": [
       "[<a class=\"sister\" href=\"http://example.com/elsie\" id=\"link1\">Elsie</a>,\n",
       " <a class=\"sister\" href=\"http://example.com/lacie\" id=\"link2\">Lacie</a>,\n",
       " <a class=\"sister\" href=\"http://example.com/tillie\" id=\"link3\">Tillie</a>]"
      ]
     },
     "execution_count": 9,
     "metadata": {},
     "output_type": "execute_result"
    }
   ],
   "source": [
    "a_tags=soup.find_all('a')\n",
    "a_tags"
   ]
  },
  {
   "cell_type": "code",
   "execution_count": 10,
   "id": "f819fa97",
   "metadata": {},
   "outputs": [
    {
     "name": "stdout",
     "output_type": "stream",
     "text": [
      "Elsie\n",
      "Lacie\n",
      "Tillie\n"
     ]
    }
   ],
   "source": [
    "for a in a_tags:\n",
    "    print (a.get_text())"
   ]
  },
  {
   "cell_type": "code",
   "execution_count": 11,
   "id": "c9f0dc8f",
   "metadata": {},
   "outputs": [
    {
     "name": "stdout",
     "output_type": "stream",
     "text": [
      "http://example.com/elsie\n",
      "http://example.com/lacie\n",
      "http://example.com/tillie\n"
     ]
    }
   ],
   "source": [
    "## get('href')\n",
    "\n",
    "for a in a_tags:\n",
    "    print (a.get('href'))"
   ]
  },
  {
   "cell_type": "code",
   "execution_count": 12,
   "id": "3e0197c5",
   "metadata": {},
   "outputs": [
    {
     "data": {
      "text/plain": [
       "\"The Dormouse's story\""
      ]
     },
     "execution_count": 12,
     "metadata": {},
     "output_type": "execute_result"
    }
   ],
   "source": [
    "soup.title.parent.string"
   ]
  },
  {
   "cell_type": "code",
   "execution_count": 13,
   "id": "a31cac83",
   "metadata": {},
   "outputs": [
    {
     "data": {
      "text/plain": [
       "'head'"
      ]
     },
     "execution_count": 13,
     "metadata": {},
     "output_type": "execute_result"
    }
   ],
   "source": [
    "soup.title.parent.name"
   ]
  },
  {
   "cell_type": "code",
   "execution_count": 14,
   "id": "9e6fd7b4",
   "metadata": {},
   "outputs": [
    {
     "data": {
      "text/plain": [
       "2"
      ]
     },
     "execution_count": 14,
     "metadata": {},
     "output_type": "execute_result"
    }
   ],
   "source": [
    "soup.text.count('were')"
   ]
  },
  {
   "cell_type": "markdown",
   "id": "56a0ba0f",
   "metadata": {},
   "source": [
    "### css method"
   ]
  },
  {
   "cell_type": "code",
   "execution_count": 15,
   "id": "aa0e10d0",
   "metadata": {},
   "outputs": [
    {
     "data": {
      "text/plain": [
       "\n",
       "<!DOCTYPE html>\n",
       "\n",
       "<html><head><title>The Dormouse's story</title></head>\n",
       "<body>\n",
       "<p class=\"title\"><b>The Dormouse's story</b></p>\n",
       "<p class=\"story\">Once upon a time there were three little sisters; and their names were\n",
       "<a class=\"sister\" href=\"http://example.com/elsie\" id=\"link1\">Elsie</a>,\n",
       "<a class=\"sister\" href=\"http://example.com/lacie\" id=\"link2\">Lacie</a> and\n",
       "<a class=\"sister\" href=\"http://example.com/tillie\" id=\"link3\">Tillie</a>;\n",
       "and they lived at the bottom of a well.</p>\n",
       "<p class=\"story\">...</p>\n",
       "</body></html>"
      ]
     },
     "execution_count": 15,
     "metadata": {},
     "output_type": "execute_result"
    }
   ],
   "source": [
    "soup"
   ]
  },
  {
   "cell_type": "code",
   "execution_count": 16,
   "id": "2ab8d14a",
   "metadata": {},
   "outputs": [
    {
     "data": {
      "text/plain": [
       "[<a class=\"sister\" href=\"http://example.com/elsie\" id=\"link1\">Elsie</a>]"
      ]
     },
     "execution_count": 16,
     "metadata": {},
     "output_type": "execute_result"
    }
   ],
   "source": [
    "soup.select('#link1') # # for id"
   ]
  },
  {
   "cell_type": "code",
   "execution_count": 17,
   "id": "b2041c95",
   "metadata": {},
   "outputs": [
    {
     "data": {
      "text/plain": [
       "[<a class=\"sister\" href=\"http://example.com/elsie\" id=\"link1\">Elsie</a>,\n",
       " <a class=\"sister\" href=\"http://example.com/lacie\" id=\"link2\">Lacie</a>,\n",
       " <a class=\"sister\" href=\"http://example.com/tillie\" id=\"link3\">Tillie</a>]"
      ]
     },
     "execution_count": 17,
     "metadata": {},
     "output_type": "execute_result"
    }
   ],
   "source": [
    "soup.select(\".sister\") # . for class name"
   ]
  },
  {
   "cell_type": "code",
   "execution_count": 18,
   "id": "621b9f86",
   "metadata": {},
   "outputs": [
    {
     "data": {
      "text/plain": [
       "[<a class=\"sister\" href=\"http://example.com/elsie\" id=\"link1\">Elsie</a>,\n",
       " <a class=\"sister\" href=\"http://example.com/lacie\" id=\"link2\">Lacie</a>,\n",
       " <a class=\"sister\" href=\"http://example.com/tillie\" id=\"link3\">Tillie</a>]"
      ]
     },
     "execution_count": 18,
     "metadata": {},
     "output_type": "execute_result"
    }
   ],
   "source": [
    "soup.select('a') # for class type"
   ]
  },
  {
   "cell_type": "code",
   "execution_count": 19,
   "id": "5948d9f8",
   "metadata": {},
   "outputs": [
    {
     "name": "stdout",
     "output_type": "stream",
     "text": [
      "Elsie\n",
      "Lacie\n",
      "Tillie\n"
     ]
    }
   ],
   "source": [
    "for a in soup.select('a'):\n",
    "    print(a.get_text())"
   ]
  },
  {
   "cell_type": "code",
   "execution_count": 20,
   "id": "e2912174",
   "metadata": {},
   "outputs": [
    {
     "name": "stdout",
     "output_type": "stream",
     "text": [
      "Elsie\n"
     ]
    }
   ],
   "source": [
    "# for an indexed value\n",
    "print(soup.select('a')[0].get_text())"
   ]
  },
  {
   "cell_type": "code",
   "execution_count": 21,
   "id": "480828f4",
   "metadata": {},
   "outputs": [
    {
     "data": {
      "text/plain": [
       "[<p class=\"story\">Once upon a time there were three little sisters; and their names were\n",
       " <a class=\"sister\" href=\"http://example.com/elsie\" id=\"link1\">Elsie</a>,\n",
       " <a class=\"sister\" href=\"http://example.com/lacie\" id=\"link2\">Lacie</a> and\n",
       " <a class=\"sister\" href=\"http://example.com/tillie\" id=\"link3\">Tillie</a>;\n",
       " and they lived at the bottom of a well.</p>,\n",
       " <p class=\"story\">...</p>]"
      ]
     },
     "execution_count": 21,
     "metadata": {},
     "output_type": "execute_result"
    }
   ],
   "source": [
    "# to select a class and label inside class\n",
    "soup.select('p.story')"
   ]
  },
  {
   "cell_type": "code",
   "execution_count": 22,
   "id": "d6f0ecf0",
   "metadata": {},
   "outputs": [
    {
     "data": {
      "text/plain": [
       "'Once upon a time there were three little sisters; and their names were\\nElsie,\\nLacie and\\nTillie;\\nand they lived at the bottom of a well.'"
      ]
     },
     "execution_count": 22,
     "metadata": {},
     "output_type": "execute_result"
    }
   ],
   "source": [
    "soup.select('p.story')[0].get_text()"
   ]
  },
  {
   "cell_type": "markdown",
   "id": "a1e56c61",
   "metadata": {},
   "source": [
    "### activity\n",
    "\n",
    "* all fun facts\n",
    "* names of all places\n",
    "* content (name plus fact) of ONLY cities\n",
    "* names of only cities (not facts)"
   ]
  },
  {
   "cell_type": "code",
   "execution_count": 23,
   "id": "74f231d1",
   "metadata": {},
   "outputs": [],
   "source": [
    "html_doc2 = \"\"\"<!DOCTYPE html>\n",
    "<html>\n",
    "<head> Geography</head>\n",
    "<body>\n",
    "<div class=\"city\">\n",
    "  <h2>London</h2>\n",
    "  <p>London is the most popular tourist destination in the world.</p>\n",
    "</div>\n",
    "<div class=\"city\">\n",
    "  <h2>Paris</h2>\n",
    "  <p>Paris was originally a Roman City called Lutetia.</p>\n",
    "</div>\n",
    "<div class=\"country\">\n",
    "  <h2>Spain</h2>\n",
    "  <p>Spain produces 43,8% of all the world’s Olive Oil.</p>\n",
    "</div>\n",
    "</body>\n",
    "</html>\"\"\""
   ]
  },
  {
   "cell_type": "code",
   "execution_count": 24,
   "id": "b882a9db",
   "metadata": {},
   "outputs": [],
   "source": [
    "soup2=BeautifulSoup(html_doc2, 'html.parser')"
   ]
  },
  {
   "cell_type": "markdown",
   "id": "af14ee79",
   "metadata": {},
   "source": [
    "#### fun facts"
   ]
  },
  {
   "cell_type": "code",
   "execution_count": 25,
   "id": "15610be5",
   "metadata": {},
   "outputs": [
    {
     "data": {
      "text/plain": [
       "[<p>London is the most popular tourist destination in the world.</p>,\n",
       " <p>Paris was originally a Roman City called Lutetia.</p>,\n",
       " <p>Spain produces 43,8% of all the world’s Olive Oil.</p>]"
      ]
     },
     "execution_count": 25,
     "metadata": {},
     "output_type": "execute_result"
    }
   ],
   "source": [
    "p_tags2=soup2.find_all('p')\n",
    "p_tags2"
   ]
  },
  {
   "cell_type": "code",
   "execution_count": 26,
   "id": "3fb388e2",
   "metadata": {},
   "outputs": [
    {
     "name": "stdout",
     "output_type": "stream",
     "text": [
      "London is the most popular tourist destination in the world.\n",
      "Paris was originally a Roman City called Lutetia.\n",
      "Spain produces 43,8% of all the world’s Olive Oil.\n"
     ]
    }
   ],
   "source": [
    "for p in p_tags2:\n",
    "    print (p.get_text())"
   ]
  },
  {
   "cell_type": "markdown",
   "id": "e1ef8d8f",
   "metadata": {},
   "source": [
    "#### names places"
   ]
  },
  {
   "cell_type": "code",
   "execution_count": 27,
   "id": "5a405c28",
   "metadata": {},
   "outputs": [
    {
     "data": {
      "text/plain": [
       "[<h2>London</h2>, <h2>Paris</h2>, <h2>Spain</h2>]"
      ]
     },
     "execution_count": 27,
     "metadata": {},
     "output_type": "execute_result"
    }
   ],
   "source": [
    "h2_tags2=soup2.find_all('h2')\n",
    "h2_tags2"
   ]
  },
  {
   "cell_type": "code",
   "execution_count": 28,
   "id": "4f87d4a8",
   "metadata": {},
   "outputs": [
    {
     "name": "stdout",
     "output_type": "stream",
     "text": [
      "London\n",
      "Paris\n",
      "Spain\n"
     ]
    }
   ],
   "source": [
    "for h2 in h2_tags2:\n",
    "    print (h2.get_text())"
   ]
  },
  {
   "cell_type": "markdown",
   "id": "a0cf4510",
   "metadata": {},
   "source": [
    "#### content (name + fact) of ONLY cities"
   ]
  },
  {
   "cell_type": "code",
   "execution_count": 29,
   "id": "6ab20157",
   "metadata": {},
   "outputs": [
    {
     "data": {
      "text/plain": [
       "[<div class=\"city\">\n",
       " <h2>London</h2>\n",
       " <p>London is the most popular tourist destination in the world.</p>\n",
       " </div>,\n",
       " <div class=\"city\">\n",
       " <h2>Paris</h2>\n",
       " <p>Paris was originally a Roman City called Lutetia.</p>\n",
       " </div>]"
      ]
     },
     "execution_count": 29,
     "metadata": {},
     "output_type": "execute_result"
    }
   ],
   "source": [
    "soup2.find_all(\"div\", {\"class\":\"city\"})"
   ]
  },
  {
   "cell_type": "code",
   "execution_count": 30,
   "id": "f0d3a45b",
   "metadata": {},
   "outputs": [
    {
     "name": "stdout",
     "output_type": "stream",
     "text": [
      "\n",
      "London\n",
      "London is the most popular tourist destination in the world.\n",
      "\n",
      "\n",
      "Paris\n",
      "Paris was originally a Roman City called Lutetia.\n",
      "\n"
     ]
    }
   ],
   "source": [
    "for i in soup2.find_all(\"div\", {\"class\":\"city\"}):\n",
    "    print(i.get_text())"
   ]
  },
  {
   "cell_type": "markdown",
   "id": "a0fb70cd",
   "metadata": {},
   "source": [
    "#### names of only cities"
   ]
  },
  {
   "cell_type": "code",
   "execution_count": 31,
   "id": "020979df",
   "metadata": {},
   "outputs": [
    {
     "data": {
      "text/plain": [
       "[<h2>London</h2>, <h2>Paris</h2>, <h2>Spain</h2>]"
      ]
     },
     "execution_count": 31,
     "metadata": {},
     "output_type": "execute_result"
    }
   ],
   "source": [
    "h2_tags2=soup2.find_all('h2')\n",
    "h2_tags2"
   ]
  },
  {
   "cell_type": "code",
   "execution_count": 32,
   "id": "e737c53e",
   "metadata": {},
   "outputs": [
    {
     "name": "stdout",
     "output_type": "stream",
     "text": [
      "London\n",
      "Paris\n"
     ]
    }
   ],
   "source": [
    "for i in soup2.find_all(\"div\", {\"class\":\"city\"}):\n",
    "    print(i.h2.get_text())"
   ]
  }
 ],
 "metadata": {
  "kernelspec": {
   "display_name": "Python 3 (ipykernel)",
   "language": "python",
   "name": "python3"
  },
  "language_info": {
   "codemirror_mode": {
    "name": "ipython",
    "version": 3
   },
   "file_extension": ".py",
   "mimetype": "text/x-python",
   "name": "python",
   "nbconvert_exporter": "python",
   "pygments_lexer": "ipython3",
   "version": "3.9.7"
  },
  "toc": {
   "base_numbering": 1,
   "nav_menu": {},
   "number_sections": true,
   "sideBar": true,
   "skip_h1_title": false,
   "title_cell": "Table of Contents",
   "title_sidebar": "Contents",
   "toc_cell": false,
   "toc_position": {},
   "toc_section_display": true,
   "toc_window_display": false
  },
  "varInspector": {
   "cols": {
    "lenName": 16,
    "lenType": 16,
    "lenVar": 40
   },
   "kernels_config": {
    "python": {
     "delete_cmd_postfix": "",
     "delete_cmd_prefix": "del ",
     "library": "var_list.py",
     "varRefreshCmd": "print(var_dic_list())"
    },
    "r": {
     "delete_cmd_postfix": ") ",
     "delete_cmd_prefix": "rm(",
     "library": "var_list.r",
     "varRefreshCmd": "cat(var_dic_list()) "
    }
   },
   "types_to_exclude": [
    "module",
    "function",
    "builtin_function_or_method",
    "instance",
    "_Feature"
   ],
   "window_display": false
  }
 },
 "nbformat": 4,
 "nbformat_minor": 5
}
