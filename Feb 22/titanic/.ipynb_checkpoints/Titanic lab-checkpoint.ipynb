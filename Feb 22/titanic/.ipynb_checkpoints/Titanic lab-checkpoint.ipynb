{
 "cells": [
  {
   "cell_type": "code",
   "execution_count": 1,
   "id": "64ef79e2",
   "metadata": {},
   "outputs": [],
   "source": [
    "from sklearn import metrics,impute\n",
    "\n",
    "import numpy as np\n",
    "import math\n",
    "import pandas as pd\n",
    "import seaborn as sns\n",
    "import matplotlib.pyplot as plt\n",
    "from sklearn.linear_model import LogisticRegression\n",
    "from sklearn.linear_model import LinearRegression\n",
    "from sklearn.model_selection import train_test_split\n",
    "from sklearn.compose import make_column_transformer\n",
    "from sklearn.metrics import accuracy_score\n",
    "from sklearn.preprocessing import OrdinalEncoder, LabelEncoder, StandardScaler\n",
    "from sklearn.model_selection import cross_validate,GridSearchCV\n",
    "import lightgbm as lgb\n",
    "\n",
    "sns.set(rc={'figure.figsize':(11.7,8.27)})"
   ]
  },
  {
   "cell_type": "code",
   "execution_count": 2,
   "id": "705e94cf",
   "metadata": {},
   "outputs": [],
   "source": [
    "test=pd.read_csv('test.csv')"
   ]
  },
  {
   "cell_type": "code",
   "execution_count": 3,
   "id": "d9eb7ea7",
   "metadata": {},
   "outputs": [],
   "source": [
    "train=pd.read_csv('train.csv')"
   ]
  },
  {
   "cell_type": "code",
   "execution_count": 4,
   "id": "b7e49b25",
   "metadata": {},
   "outputs": [],
   "source": [
    "data=pd.concat([train, test])"
   ]
  },
  {
   "cell_type": "code",
   "execution_count": 6,
   "id": "6050dcb3",
   "metadata": {},
   "outputs": [
    {
     "data": {
      "text/html": [
       "<div>\n",
       "<style scoped>\n",
       "    .dataframe tbody tr th:only-of-type {\n",
       "        vertical-align: middle;\n",
       "    }\n",
       "\n",
       "    .dataframe tbody tr th {\n",
       "        vertical-align: top;\n",
       "    }\n",
       "\n",
       "    .dataframe thead th {\n",
       "        text-align: right;\n",
       "    }\n",
       "</style>\n",
       "<table border=\"1\" class=\"dataframe\">\n",
       "  <thead>\n",
       "    <tr style=\"text-align: right;\">\n",
       "      <th></th>\n",
       "      <th>PassengerId</th>\n",
       "      <th>Survived</th>\n",
       "      <th>Pclass</th>\n",
       "      <th>Name</th>\n",
       "      <th>Sex</th>\n",
       "      <th>Age</th>\n",
       "      <th>SibSp</th>\n",
       "      <th>Parch</th>\n",
       "      <th>Ticket</th>\n",
       "      <th>Fare</th>\n",
       "      <th>Cabin</th>\n",
       "      <th>Embarked</th>\n",
       "    </tr>\n",
       "  </thead>\n",
       "  <tbody>\n",
       "    <tr>\n",
       "      <th>0</th>\n",
       "      <td>1</td>\n",
       "      <td>0.0</td>\n",
       "      <td>3</td>\n",
       "      <td>Braund, Mr. Owen Harris</td>\n",
       "      <td>male</td>\n",
       "      <td>22.0</td>\n",
       "      <td>1</td>\n",
       "      <td>0</td>\n",
       "      <td>A/5 21171</td>\n",
       "      <td>7.2500</td>\n",
       "      <td>NaN</td>\n",
       "      <td>S</td>\n",
       "    </tr>\n",
       "    <tr>\n",
       "      <th>1</th>\n",
       "      <td>2</td>\n",
       "      <td>1.0</td>\n",
       "      <td>1</td>\n",
       "      <td>Cumings, Mrs. John Bradley (Florence Briggs Th...</td>\n",
       "      <td>female</td>\n",
       "      <td>38.0</td>\n",
       "      <td>1</td>\n",
       "      <td>0</td>\n",
       "      <td>PC 17599</td>\n",
       "      <td>71.2833</td>\n",
       "      <td>C85</td>\n",
       "      <td>C</td>\n",
       "    </tr>\n",
       "    <tr>\n",
       "      <th>2</th>\n",
       "      <td>3</td>\n",
       "      <td>1.0</td>\n",
       "      <td>3</td>\n",
       "      <td>Heikkinen, Miss. Laina</td>\n",
       "      <td>female</td>\n",
       "      <td>26.0</td>\n",
       "      <td>0</td>\n",
       "      <td>0</td>\n",
       "      <td>STON/O2. 3101282</td>\n",
       "      <td>7.9250</td>\n",
       "      <td>NaN</td>\n",
       "      <td>S</td>\n",
       "    </tr>\n",
       "    <tr>\n",
       "      <th>3</th>\n",
       "      <td>4</td>\n",
       "      <td>1.0</td>\n",
       "      <td>1</td>\n",
       "      <td>Futrelle, Mrs. Jacques Heath (Lily May Peel)</td>\n",
       "      <td>female</td>\n",
       "      <td>35.0</td>\n",
       "      <td>1</td>\n",
       "      <td>0</td>\n",
       "      <td>113803</td>\n",
       "      <td>53.1000</td>\n",
       "      <td>C123</td>\n",
       "      <td>S</td>\n",
       "    </tr>\n",
       "    <tr>\n",
       "      <th>4</th>\n",
       "      <td>5</td>\n",
       "      <td>0.0</td>\n",
       "      <td>3</td>\n",
       "      <td>Allen, Mr. William Henry</td>\n",
       "      <td>male</td>\n",
       "      <td>35.0</td>\n",
       "      <td>0</td>\n",
       "      <td>0</td>\n",
       "      <td>373450</td>\n",
       "      <td>8.0500</td>\n",
       "      <td>NaN</td>\n",
       "      <td>S</td>\n",
       "    </tr>\n",
       "  </tbody>\n",
       "</table>\n",
       "</div>"
      ],
      "text/plain": [
       "   PassengerId  Survived  Pclass  \\\n",
       "0            1       0.0       3   \n",
       "1            2       1.0       1   \n",
       "2            3       1.0       3   \n",
       "3            4       1.0       1   \n",
       "4            5       0.0       3   \n",
       "\n",
       "                                                Name     Sex   Age  SibSp  \\\n",
       "0                            Braund, Mr. Owen Harris    male  22.0      1   \n",
       "1  Cumings, Mrs. John Bradley (Florence Briggs Th...  female  38.0      1   \n",
       "2                             Heikkinen, Miss. Laina  female  26.0      0   \n",
       "3       Futrelle, Mrs. Jacques Heath (Lily May Peel)  female  35.0      1   \n",
       "4                           Allen, Mr. William Henry    male  35.0      0   \n",
       "\n",
       "   Parch            Ticket     Fare Cabin Embarked  \n",
       "0      0         A/5 21171   7.2500   NaN        S  \n",
       "1      0          PC 17599  71.2833   C85        C  \n",
       "2      0  STON/O2. 3101282   7.9250   NaN        S  \n",
       "3      0            113803  53.1000  C123        S  \n",
       "4      0            373450   8.0500   NaN        S  "
      ]
     },
     "execution_count": 6,
     "metadata": {},
     "output_type": "execute_result"
    }
   ],
   "source": [
    "data.head()"
   ]
  },
  {
   "cell_type": "code",
   "execution_count": 7,
   "id": "efb9af7c",
   "metadata": {},
   "outputs": [
    {
     "name": "stdout",
     "output_type": "stream",
     "text": [
      "<class 'pandas.core.frame.DataFrame'>\n",
      "Int64Index: 1309 entries, 0 to 417\n",
      "Data columns (total 12 columns):\n",
      " #   Column       Non-Null Count  Dtype  \n",
      "---  ------       --------------  -----  \n",
      " 0   PassengerId  1309 non-null   int64  \n",
      " 1   Survived     891 non-null    float64\n",
      " 2   Pclass       1309 non-null   int64  \n",
      " 3   Name         1309 non-null   object \n",
      " 4   Sex          1309 non-null   object \n",
      " 5   Age          1046 non-null   float64\n",
      " 6   SibSp        1309 non-null   int64  \n",
      " 7   Parch        1309 non-null   int64  \n",
      " 8   Ticket       1309 non-null   object \n",
      " 9   Fare         1308 non-null   float64\n",
      " 10  Cabin        295 non-null    object \n",
      " 11  Embarked     1307 non-null   object \n",
      "dtypes: float64(3), int64(4), object(5)\n",
      "memory usage: 132.9+ KB\n"
     ]
    }
   ],
   "source": [
    "data.info()"
   ]
  },
  {
   "cell_type": "code",
   "execution_count": 8,
   "id": "7a80d2f3",
   "metadata": {},
   "outputs": [
    {
     "data": {
      "text/html": [
       "<div>\n",
       "<style scoped>\n",
       "    .dataframe tbody tr th:only-of-type {\n",
       "        vertical-align: middle;\n",
       "    }\n",
       "\n",
       "    .dataframe tbody tr th {\n",
       "        vertical-align: top;\n",
       "    }\n",
       "\n",
       "    .dataframe thead th {\n",
       "        text-align: right;\n",
       "    }\n",
       "</style>\n",
       "<table border=\"1\" class=\"dataframe\">\n",
       "  <thead>\n",
       "    <tr style=\"text-align: right;\">\n",
       "      <th></th>\n",
       "      <th>PassengerId</th>\n",
       "      <th>Survived</th>\n",
       "      <th>Pclass</th>\n",
       "      <th>Age</th>\n",
       "      <th>SibSp</th>\n",
       "      <th>Parch</th>\n",
       "      <th>Fare</th>\n",
       "    </tr>\n",
       "  </thead>\n",
       "  <tbody>\n",
       "    <tr>\n",
       "      <th>count</th>\n",
       "      <td>1309.000000</td>\n",
       "      <td>891.000000</td>\n",
       "      <td>1309.000000</td>\n",
       "      <td>1046.000000</td>\n",
       "      <td>1309.000000</td>\n",
       "      <td>1309.000000</td>\n",
       "      <td>1308.000000</td>\n",
       "    </tr>\n",
       "    <tr>\n",
       "      <th>mean</th>\n",
       "      <td>655.000000</td>\n",
       "      <td>0.383838</td>\n",
       "      <td>2.294882</td>\n",
       "      <td>29.881138</td>\n",
       "      <td>0.498854</td>\n",
       "      <td>0.385027</td>\n",
       "      <td>33.295479</td>\n",
       "    </tr>\n",
       "    <tr>\n",
       "      <th>std</th>\n",
       "      <td>378.020061</td>\n",
       "      <td>0.486592</td>\n",
       "      <td>0.837836</td>\n",
       "      <td>14.413493</td>\n",
       "      <td>1.041658</td>\n",
       "      <td>0.865560</td>\n",
       "      <td>51.758668</td>\n",
       "    </tr>\n",
       "    <tr>\n",
       "      <th>min</th>\n",
       "      <td>1.000000</td>\n",
       "      <td>0.000000</td>\n",
       "      <td>1.000000</td>\n",
       "      <td>0.170000</td>\n",
       "      <td>0.000000</td>\n",
       "      <td>0.000000</td>\n",
       "      <td>0.000000</td>\n",
       "    </tr>\n",
       "    <tr>\n",
       "      <th>25%</th>\n",
       "      <td>328.000000</td>\n",
       "      <td>0.000000</td>\n",
       "      <td>2.000000</td>\n",
       "      <td>21.000000</td>\n",
       "      <td>0.000000</td>\n",
       "      <td>0.000000</td>\n",
       "      <td>7.895800</td>\n",
       "    </tr>\n",
       "    <tr>\n",
       "      <th>50%</th>\n",
       "      <td>655.000000</td>\n",
       "      <td>0.000000</td>\n",
       "      <td>3.000000</td>\n",
       "      <td>28.000000</td>\n",
       "      <td>0.000000</td>\n",
       "      <td>0.000000</td>\n",
       "      <td>14.454200</td>\n",
       "    </tr>\n",
       "    <tr>\n",
       "      <th>75%</th>\n",
       "      <td>982.000000</td>\n",
       "      <td>1.000000</td>\n",
       "      <td>3.000000</td>\n",
       "      <td>39.000000</td>\n",
       "      <td>1.000000</td>\n",
       "      <td>0.000000</td>\n",
       "      <td>31.275000</td>\n",
       "    </tr>\n",
       "    <tr>\n",
       "      <th>max</th>\n",
       "      <td>1309.000000</td>\n",
       "      <td>1.000000</td>\n",
       "      <td>3.000000</td>\n",
       "      <td>80.000000</td>\n",
       "      <td>8.000000</td>\n",
       "      <td>9.000000</td>\n",
       "      <td>512.329200</td>\n",
       "    </tr>\n",
       "  </tbody>\n",
       "</table>\n",
       "</div>"
      ],
      "text/plain": [
       "       PassengerId    Survived       Pclass          Age        SibSp  \\\n",
       "count  1309.000000  891.000000  1309.000000  1046.000000  1309.000000   \n",
       "mean    655.000000    0.383838     2.294882    29.881138     0.498854   \n",
       "std     378.020061    0.486592     0.837836    14.413493     1.041658   \n",
       "min       1.000000    0.000000     1.000000     0.170000     0.000000   \n",
       "25%     328.000000    0.000000     2.000000    21.000000     0.000000   \n",
       "50%     655.000000    0.000000     3.000000    28.000000     0.000000   \n",
       "75%     982.000000    1.000000     3.000000    39.000000     1.000000   \n",
       "max    1309.000000    1.000000     3.000000    80.000000     8.000000   \n",
       "\n",
       "             Parch         Fare  \n",
       "count  1309.000000  1308.000000  \n",
       "mean      0.385027    33.295479  \n",
       "std       0.865560    51.758668  \n",
       "min       0.000000     0.000000  \n",
       "25%       0.000000     7.895800  \n",
       "50%       0.000000    14.454200  \n",
       "75%       0.000000    31.275000  \n",
       "max       9.000000   512.329200  "
      ]
     },
     "execution_count": 8,
     "metadata": {},
     "output_type": "execute_result"
    }
   ],
   "source": [
    "data.describe()"
   ]
  },
  {
   "cell_type": "code",
   "execution_count": 9,
   "id": "7808c08a",
   "metadata": {},
   "outputs": [],
   "source": [
    "def count_all_reasonable (df):\n",
    "    n_uniqe = {}\n",
    "    n_uniqe = {column:df[column].nunique() for column in df}\n",
    "    for key in n_uniqe:\n",
    "        print(f\"{key} has {n_uniqe[key]} unique values\")\n",
    "        print (' ')\n",
    "    print (' ')\n",
    "    print (' ')\n",
    "    for column in df:\n",
    "        if len(np.unique(list(df[column]))) < 20:\n",
    "            print (column.upper(), \":\")\n",
    "            print (' ')\n",
    "            print (' ')\n",
    "            print (\"Unique values\")\n",
    "            print (' ')\n",
    "            print (set(list(df[column])))\n",
    "            print (' ')\n",
    "            print (df[column].value_counts())\n",
    "            print (' ')\n",
    "            print (' ')\n",
    "            print (' ')"
   ]
  },
  {
   "cell_type": "code",
   "execution_count": 10,
   "id": "1983e216",
   "metadata": {},
   "outputs": [
    {
     "name": "stdout",
     "output_type": "stream",
     "text": [
      "PassengerId has 1309 unique values\n",
      " \n",
      "Survived has 2 unique values\n",
      " \n",
      "Pclass has 3 unique values\n",
      " \n",
      "Name has 1307 unique values\n",
      " \n",
      "Sex has 2 unique values\n",
      " \n",
      "Age has 98 unique values\n",
      " \n",
      "SibSp has 7 unique values\n",
      " \n",
      "Parch has 8 unique values\n",
      " \n",
      "Ticket has 929 unique values\n",
      " \n",
      "Fare has 281 unique values\n",
      " \n",
      "Cabin has 186 unique values\n",
      " \n",
      "Embarked has 3 unique values\n",
      " \n",
      " \n",
      " \n",
      "PCLASS :\n",
      " \n",
      " \n",
      "Unique values\n",
      " \n",
      "{1, 2, 3}\n",
      " \n",
      "3    709\n",
      "1    323\n",
      "2    277\n",
      "Name: Pclass, dtype: int64\n",
      " \n",
      " \n",
      " \n",
      "SEX :\n",
      " \n",
      " \n",
      "Unique values\n",
      " \n",
      "{'male', 'female'}\n",
      " \n",
      "male      843\n",
      "female    466\n",
      "Name: Sex, dtype: int64\n",
      " \n",
      " \n",
      " \n",
      "SIBSP :\n",
      " \n",
      " \n",
      "Unique values\n",
      " \n",
      "{0, 1, 2, 3, 4, 5, 8}\n",
      " \n",
      "0    891\n",
      "1    319\n",
      "2     42\n",
      "4     22\n",
      "3     20\n",
      "8      9\n",
      "5      6\n",
      "Name: SibSp, dtype: int64\n",
      " \n",
      " \n",
      " \n",
      "PARCH :\n",
      " \n",
      " \n",
      "Unique values\n",
      " \n",
      "{0, 1, 2, 3, 4, 5, 6, 9}\n",
      " \n",
      "0    1002\n",
      "1     170\n",
      "2     113\n",
      "3       8\n",
      "5       6\n",
      "4       6\n",
      "6       2\n",
      "9       2\n",
      "Name: Parch, dtype: int64\n",
      " \n",
      " \n",
      " \n",
      "EMBARKED :\n",
      " \n",
      " \n",
      "Unique values\n",
      " \n",
      "{nan, 'Q', 'C', 'S'}\n",
      " \n",
      "S    914\n",
      "C    270\n",
      "Q    123\n",
      "Name: Embarked, dtype: int64\n",
      " \n",
      " \n",
      " \n"
     ]
    }
   ],
   "source": [
    "count_all_reasonable(data)"
   ]
  },
  {
   "cell_type": "code",
   "execution_count": 11,
   "id": "09811506",
   "metadata": {},
   "outputs": [
    {
     "data": {
      "text/plain": [
       "(1309, 12)"
      ]
     },
     "execution_count": 11,
     "metadata": {},
     "output_type": "execute_result"
    }
   ],
   "source": [
    "data.shape"
   ]
  },
  {
   "cell_type": "code",
   "execution_count": 12,
   "id": "b55df14a",
   "metadata": {},
   "outputs": [],
   "source": [
    "data=data.drop_duplicates()"
   ]
  },
  {
   "cell_type": "code",
   "execution_count": 13,
   "id": "ea0c2f26",
   "metadata": {},
   "outputs": [
    {
     "data": {
      "text/plain": [
       "(1309, 12)"
      ]
     },
     "execution_count": 13,
     "metadata": {},
     "output_type": "execute_result"
    }
   ],
   "source": [
    "data.shape"
   ]
  },
  {
   "cell_type": "code",
   "execution_count": 14,
   "id": "486f0bfe",
   "metadata": {},
   "outputs": [],
   "source": [
    "# let's drop Cabin, Ticket and Name, that complicate the model and don't offer much data\n",
    "data=data.drop(['Cabin', 'Ticket', 'Name'], axis=1)"
   ]
  },
  {
   "cell_type": "code",
   "execution_count": 15,
   "id": "1d323844",
   "metadata": {},
   "outputs": [
    {
     "data": {
      "text/html": [
       "<div>\n",
       "<style scoped>\n",
       "    .dataframe tbody tr th:only-of-type {\n",
       "        vertical-align: middle;\n",
       "    }\n",
       "\n",
       "    .dataframe tbody tr th {\n",
       "        vertical-align: top;\n",
       "    }\n",
       "\n",
       "    .dataframe thead th {\n",
       "        text-align: right;\n",
       "    }\n",
       "</style>\n",
       "<table border=\"1\" class=\"dataframe\">\n",
       "  <thead>\n",
       "    <tr style=\"text-align: right;\">\n",
       "      <th></th>\n",
       "      <th>PassengerId</th>\n",
       "      <th>Survived</th>\n",
       "      <th>Pclass</th>\n",
       "      <th>Sex</th>\n",
       "      <th>Age</th>\n",
       "      <th>SibSp</th>\n",
       "      <th>Parch</th>\n",
       "      <th>Fare</th>\n",
       "      <th>Embarked</th>\n",
       "    </tr>\n",
       "  </thead>\n",
       "  <tbody>\n",
       "    <tr>\n",
       "      <th>0</th>\n",
       "      <td>1</td>\n",
       "      <td>0.0</td>\n",
       "      <td>3</td>\n",
       "      <td>male</td>\n",
       "      <td>22.0</td>\n",
       "      <td>1</td>\n",
       "      <td>0</td>\n",
       "      <td>7.2500</td>\n",
       "      <td>S</td>\n",
       "    </tr>\n",
       "    <tr>\n",
       "      <th>1</th>\n",
       "      <td>2</td>\n",
       "      <td>1.0</td>\n",
       "      <td>1</td>\n",
       "      <td>female</td>\n",
       "      <td>38.0</td>\n",
       "      <td>1</td>\n",
       "      <td>0</td>\n",
       "      <td>71.2833</td>\n",
       "      <td>C</td>\n",
       "    </tr>\n",
       "    <tr>\n",
       "      <th>2</th>\n",
       "      <td>3</td>\n",
       "      <td>1.0</td>\n",
       "      <td>3</td>\n",
       "      <td>female</td>\n",
       "      <td>26.0</td>\n",
       "      <td>0</td>\n",
       "      <td>0</td>\n",
       "      <td>7.9250</td>\n",
       "      <td>S</td>\n",
       "    </tr>\n",
       "    <tr>\n",
       "      <th>3</th>\n",
       "      <td>4</td>\n",
       "      <td>1.0</td>\n",
       "      <td>1</td>\n",
       "      <td>female</td>\n",
       "      <td>35.0</td>\n",
       "      <td>1</td>\n",
       "      <td>0</td>\n",
       "      <td>53.1000</td>\n",
       "      <td>S</td>\n",
       "    </tr>\n",
       "    <tr>\n",
       "      <th>4</th>\n",
       "      <td>5</td>\n",
       "      <td>0.0</td>\n",
       "      <td>3</td>\n",
       "      <td>male</td>\n",
       "      <td>35.0</td>\n",
       "      <td>0</td>\n",
       "      <td>0</td>\n",
       "      <td>8.0500</td>\n",
       "      <td>S</td>\n",
       "    </tr>\n",
       "  </tbody>\n",
       "</table>\n",
       "</div>"
      ],
      "text/plain": [
       "   PassengerId  Survived  Pclass     Sex   Age  SibSp  Parch     Fare Embarked\n",
       "0            1       0.0       3    male  22.0      1      0   7.2500        S\n",
       "1            2       1.0       1  female  38.0      1      0  71.2833        C\n",
       "2            3       1.0       3  female  26.0      0      0   7.9250        S\n",
       "3            4       1.0       1  female  35.0      1      0  53.1000        S\n",
       "4            5       0.0       3    male  35.0      0      0   8.0500        S"
      ]
     },
     "execution_count": 15,
     "metadata": {},
     "output_type": "execute_result"
    }
   ],
   "source": [
    "data.head()"
   ]
  },
  {
   "cell_type": "code",
   "execution_count": null,
   "id": "9a8bbe0d",
   "metadata": {},
   "outputs": [],
   "source": []
  },
  {
   "cell_type": "markdown",
   "id": "93aa95ee",
   "metadata": {},
   "source": [
    "We can make groups out of Age and Fare to work better with the variables"
   ]
  },
  {
   "cell_type": "code",
   "execution_count": 16,
   "id": "b00f50e9",
   "metadata": {},
   "outputs": [],
   "source": [
    "data['Generation'] = round((data['Age']/20)+0.5)\n",
    "data['Level_Paid'] = round((data['Fare']/100)+0.5)"
   ]
  },
  {
   "cell_type": "code",
   "execution_count": 17,
   "id": "2ba4d82c",
   "metadata": {},
   "outputs": [
    {
     "data": {
      "text/html": [
       "<div>\n",
       "<style scoped>\n",
       "    .dataframe tbody tr th:only-of-type {\n",
       "        vertical-align: middle;\n",
       "    }\n",
       "\n",
       "    .dataframe tbody tr th {\n",
       "        vertical-align: top;\n",
       "    }\n",
       "\n",
       "    .dataframe thead th {\n",
       "        text-align: right;\n",
       "    }\n",
       "</style>\n",
       "<table border=\"1\" class=\"dataframe\">\n",
       "  <thead>\n",
       "    <tr style=\"text-align: right;\">\n",
       "      <th></th>\n",
       "      <th>PassengerId</th>\n",
       "      <th>Survived</th>\n",
       "      <th>Pclass</th>\n",
       "      <th>Age</th>\n",
       "      <th>SibSp</th>\n",
       "      <th>Parch</th>\n",
       "      <th>Fare</th>\n",
       "      <th>Generation</th>\n",
       "      <th>Level_Paid</th>\n",
       "    </tr>\n",
       "  </thead>\n",
       "  <tbody>\n",
       "    <tr>\n",
       "      <th>PassengerId</th>\n",
       "      <td>1.000000</td>\n",
       "      <td>-0.005007</td>\n",
       "      <td>-0.038354</td>\n",
       "      <td>0.028814</td>\n",
       "      <td>-0.055224</td>\n",
       "      <td>0.008942</td>\n",
       "      <td>0.031428</td>\n",
       "      <td>0.047641</td>\n",
       "      <td>0.039037</td>\n",
       "    </tr>\n",
       "    <tr>\n",
       "      <th>Survived</th>\n",
       "      <td>-0.005007</td>\n",
       "      <td>1.000000</td>\n",
       "      <td>-0.338481</td>\n",
       "      <td>-0.077221</td>\n",
       "      <td>-0.035322</td>\n",
       "      <td>0.081629</td>\n",
       "      <td>0.257307</td>\n",
       "      <td>-0.084210</td>\n",
       "      <td>0.178234</td>\n",
       "    </tr>\n",
       "    <tr>\n",
       "      <th>Pclass</th>\n",
       "      <td>-0.038354</td>\n",
       "      <td>-0.338481</td>\n",
       "      <td>1.000000</td>\n",
       "      <td>-0.408106</td>\n",
       "      <td>0.060832</td>\n",
       "      <td>0.018322</td>\n",
       "      <td>-0.558629</td>\n",
       "      <td>-0.356684</td>\n",
       "      <td>-0.321508</td>\n",
       "    </tr>\n",
       "    <tr>\n",
       "      <th>Age</th>\n",
       "      <td>0.028814</td>\n",
       "      <td>-0.077221</td>\n",
       "      <td>-0.408106</td>\n",
       "      <td>1.000000</td>\n",
       "      <td>-0.243699</td>\n",
       "      <td>-0.150917</td>\n",
       "      <td>0.178740</td>\n",
       "      <td>0.914953</td>\n",
       "      <td>0.105685</td>\n",
       "    </tr>\n",
       "    <tr>\n",
       "      <th>SibSp</th>\n",
       "      <td>-0.055224</td>\n",
       "      <td>-0.035322</td>\n",
       "      <td>0.060832</td>\n",
       "      <td>-0.243699</td>\n",
       "      <td>1.000000</td>\n",
       "      <td>0.373587</td>\n",
       "      <td>0.160238</td>\n",
       "      <td>-0.227383</td>\n",
       "      <td>0.041555</td>\n",
       "    </tr>\n",
       "    <tr>\n",
       "      <th>Parch</th>\n",
       "      <td>0.008942</td>\n",
       "      <td>0.081629</td>\n",
       "      <td>0.018322</td>\n",
       "      <td>-0.150917</td>\n",
       "      <td>0.373587</td>\n",
       "      <td>1.000000</td>\n",
       "      <td>0.221539</td>\n",
       "      <td>-0.144485</td>\n",
       "      <td>0.133379</td>\n",
       "    </tr>\n",
       "    <tr>\n",
       "      <th>Fare</th>\n",
       "      <td>0.031428</td>\n",
       "      <td>0.257307</td>\n",
       "      <td>-0.558629</td>\n",
       "      <td>0.178740</td>\n",
       "      <td>0.160238</td>\n",
       "      <td>0.221539</td>\n",
       "      <td>1.000000</td>\n",
       "      <td>0.142638</td>\n",
       "      <td>0.901516</td>\n",
       "    </tr>\n",
       "    <tr>\n",
       "      <th>Generation</th>\n",
       "      <td>0.047641</td>\n",
       "      <td>-0.084210</td>\n",
       "      <td>-0.356684</td>\n",
       "      <td>0.914953</td>\n",
       "      <td>-0.227383</td>\n",
       "      <td>-0.144485</td>\n",
       "      <td>0.142638</td>\n",
       "      <td>1.000000</td>\n",
       "      <td>0.078512</td>\n",
       "    </tr>\n",
       "    <tr>\n",
       "      <th>Level_Paid</th>\n",
       "      <td>0.039037</td>\n",
       "      <td>0.178234</td>\n",
       "      <td>-0.321508</td>\n",
       "      <td>0.105685</td>\n",
       "      <td>0.041555</td>\n",
       "      <td>0.133379</td>\n",
       "      <td>0.901516</td>\n",
       "      <td>0.078512</td>\n",
       "      <td>1.000000</td>\n",
       "    </tr>\n",
       "  </tbody>\n",
       "</table>\n",
       "</div>"
      ],
      "text/plain": [
       "             PassengerId  Survived    Pclass       Age     SibSp     Parch  \\\n",
       "PassengerId     1.000000 -0.005007 -0.038354  0.028814 -0.055224  0.008942   \n",
       "Survived       -0.005007  1.000000 -0.338481 -0.077221 -0.035322  0.081629   \n",
       "Pclass         -0.038354 -0.338481  1.000000 -0.408106  0.060832  0.018322   \n",
       "Age             0.028814 -0.077221 -0.408106  1.000000 -0.243699 -0.150917   \n",
       "SibSp          -0.055224 -0.035322  0.060832 -0.243699  1.000000  0.373587   \n",
       "Parch           0.008942  0.081629  0.018322 -0.150917  0.373587  1.000000   \n",
       "Fare            0.031428  0.257307 -0.558629  0.178740  0.160238  0.221539   \n",
       "Generation      0.047641 -0.084210 -0.356684  0.914953 -0.227383 -0.144485   \n",
       "Level_Paid      0.039037  0.178234 -0.321508  0.105685  0.041555  0.133379   \n",
       "\n",
       "                 Fare  Generation  Level_Paid  \n",
       "PassengerId  0.031428    0.047641    0.039037  \n",
       "Survived     0.257307   -0.084210    0.178234  \n",
       "Pclass      -0.558629   -0.356684   -0.321508  \n",
       "Age          0.178740    0.914953    0.105685  \n",
       "SibSp        0.160238   -0.227383    0.041555  \n",
       "Parch        0.221539   -0.144485    0.133379  \n",
       "Fare         1.000000    0.142638    0.901516  \n",
       "Generation   0.142638    1.000000    0.078512  \n",
       "Level_Paid   0.901516    0.078512    1.000000  "
      ]
     },
     "execution_count": 17,
     "metadata": {},
     "output_type": "execute_result"
    }
   ],
   "source": [
    "corre_matrix = data.corr()\n",
    "\n",
    "corre_matrix"
   ]
  },
  {
   "cell_type": "code",
   "execution_count": 18,
   "id": "b4dcd808",
   "metadata": {},
   "outputs": [
    {
     "data": {
      "image/png": "[encoded data removed]",
      "text/plain": [
       "<Figure size 2160x1440 with 2 Axes>"
      ]
     },
     "metadata": {},
     "output_type": "display_data"
    }
   ],
   "source": [
    "mask=np.zeros_like(corre_matrix)\n",
    "mask[np.triu_indices_from(mask)]=True\n",
    "fig,ax = plt.subplots(figsize= (30,20));\n",
    "ax= sns.heatmap(corre_matrix, mask=mask, annot=True, cmap=sns.diverging_palette(220, 20, as_cmap = True))"
   ]
  },
  {
   "cell_type": "markdown",
   "id": "5d00d688",
   "metadata": {},
   "source": [
    "Parch and SibSp refers to different kind of relatives, so it makes sense that they have correlation, as a lot of families surely just went together."
   ]
  },
  {
   "cell_type": "code",
   "execution_count": 19,
   "id": "1774c5b1",
   "metadata": {},
   "outputs": [
    {
     "data": {
      "text/plain": [
       "<AxesSubplot:xlabel='Generation', ylabel='Survived'>"
      ]
     },
     "execution_count": 19,
     "metadata": {},
     "output_type": "execute_result"
    },
    {
     "data": {
      "image/png": "[encoded data removed]",
      "text/plain": [
       "<Figure size 842.4x595.44 with 1 Axes>"
      ]
     },
     "metadata": {},
     "output_type": "display_data"
    }
   ],
   "source": [
    "sns.barplot(data=data,x='Generation',y=\"Survived\")"
   ]
  },
  {
   "cell_type": "code",
   "execution_count": 20,
   "id": "49c15141",
   "metadata": {},
   "outputs": [
    {
     "data": {
      "text/plain": [
       "<AxesSubplot:xlabel='Generation', ylabel='Fare'>"
      ]
     },
     "execution_count": 20,
     "metadata": {},
     "output_type": "execute_result"
    },
    {
     "data": {
      "image/png": "[encoded data removed]",
      "text/plain": [
       "<Figure size 842.4x595.44 with 1 Axes>"
      ]
     },
     "metadata": {},
     "output_type": "display_data"
    }
   ],
   "source": [
    "sns.barplot(data=data,x='Generation',y=\"Fare\")"
   ]
  },
  {
   "cell_type": "code",
   "execution_count": 21,
   "id": "f026e7fc",
   "metadata": {},
   "outputs": [
    {
     "data": {
      "text/plain": [
       "<AxesSubplot:xlabel='Level_Paid', ylabel='Survived'>"
      ]
     },
     "execution_count": 21,
     "metadata": {},
     "output_type": "execute_result"
    },
    {
     "data": {
      "image/png": "[encoded data removed]",
      "text/plain": [
       "<Figure size 842.4x595.44 with 1 Axes>"
      ]
     },
     "metadata": {},
     "output_type": "display_data"
    }
   ],
   "source": [
    "sns.barplot(data=data,x='Level_Paid',y=\"Survived\")"
   ]
  },
  {
   "cell_type": "markdown",
   "id": "90bd6387",
   "metadata": {},
   "source": [
    "* Young people have more survival rate\n",
    "* Old people paid more\n",
    "* People paying the most had the highest survival rate"
   ]
  },
  {
   "cell_type": "code",
   "execution_count": 22,
   "id": "716432bd",
   "metadata": {},
   "outputs": [
    {
     "name": "stderr",
     "output_type": "stream",
     "text": [
      "C:\\Users\\x\\anaconda3\\envs\\class\\lib\\site-packages\\seaborn\\categorical.py:3717: UserWarning: The `factorplot` function has been renamed to `catplot`. The original name will be removed in a future release. Please update your code. Note that the default `kind` in `factorplot` (`'point'`) has changed `'strip'` in `catplot`.\n",
      "  warnings.warn(msg)\n"
     ]
    },
    {
     "data": {
      "text/plain": [
       "<seaborn.axisgrid.FacetGrid at 0x27303804220>"
      ]
     },
     "execution_count": 22,
     "metadata": {},
     "output_type": "execute_result"
    },
    {
     "data": {
      "image/png": "[encoded data removed]",
      "text/plain": [
       "<Figure size 432.85x360 with 1 Axes>"
      ]
     },
     "metadata": {},
     "output_type": "display_data"
    }
   ],
   "source": [
    "sns.factorplot(x = 'Pclass', y='Survived', hue = 'Sex',data=data, kind='bar')"
   ]
  },
  {
   "cell_type": "markdown",
   "id": "51d7e96b",
   "metadata": {},
   "source": [
    "Females in class 1 & 2 were almost always granted survival. Men in any class had less survival chance than women in any class."
   ]
  },
  {
   "cell_type": "code",
   "execution_count": 23,
   "id": "f48fab3d",
   "metadata": {},
   "outputs": [],
   "source": [
    "# filling nulls in Age\n",
    "data[\"Age\"] = data[\"Age\"].fillna(method='ffill')\n",
    "\n",
    "# refreshing Generation to include new values\n",
    "data['Generation'] = round((data['Age']/20)+0.5)"
   ]
  },
  {
   "cell_type": "code",
   "execution_count": 24,
   "id": "af60a9cb",
   "metadata": {},
   "outputs": [],
   "source": [
    "# convert Sex to binary\n",
    "data[\"Sex\"] = [1 if x==\"male\" else 0 for x in data[\"Sex\"]]"
   ]
  },
  {
   "cell_type": "code",
   "execution_count": 25,
   "id": "8593d669",
   "metadata": {},
   "outputs": [],
   "source": [
    "# deal with other nulls\n",
    "data[\"Embarked\"] = data[\"Embarked\"].fillna(method='ffill')\n",
    "data[\"Fare\"] = data[\"Fare\"].fillna(method='ffill')\n",
    "\n",
    "\n",
    "# refreshing Level_Paid\n",
    "data['Level_Paid'] = round((data['Fare']/100)+0.5)"
   ]
  },
  {
   "cell_type": "code",
   "execution_count": 26,
   "id": "30d0bc05",
   "metadata": {},
   "outputs": [
    {
     "name": "stdout",
     "output_type": "stream",
     "text": [
      "<class 'pandas.core.frame.DataFrame'>\n",
      "Int64Index: 1309 entries, 0 to 417\n",
      "Data columns (total 11 columns):\n",
      " #   Column       Non-Null Count  Dtype  \n",
      "---  ------       --------------  -----  \n",
      " 0   PassengerId  1309 non-null   int64  \n",
      " 1   Survived     891 non-null    float64\n",
      " 2   Pclass       1309 non-null   int64  \n",
      " 3   Sex          1309 non-null   int64  \n",
      " 4   Age          1309 non-null   float64\n",
      " 5   SibSp        1309 non-null   int64  \n",
      " 6   Parch        1309 non-null   int64  \n",
      " 7   Fare         1309 non-null   float64\n",
      " 8   Embarked     1309 non-null   object \n",
      " 9   Generation   1309 non-null   float64\n",
      " 10  Level_Paid   1309 non-null   float64\n",
      "dtypes: float64(5), int64(5), object(1)\n",
      "memory usage: 155.0+ KB\n"
     ]
    }
   ],
   "source": [
    "data.info()"
   ]
  },
  {
   "cell_type": "code",
   "execution_count": 27,
   "id": "fcc27a7b",
   "metadata": {},
   "outputs": [],
   "source": [
    "# let's dummify Embarked, the only non numerical column left in data\n",
    "\n",
    "Embarked_dummies_arr=pd.get_dummies(data['Embarked'], drop_first=True)\n",
    "\n",
    "Embarked_dumm=pd.DataFrame(Embarked_dummies_arr)"
   ]
  },
  {
   "cell_type": "code",
   "execution_count": 28,
   "id": "f60c0cb1",
   "metadata": {},
   "outputs": [],
   "source": [
    "data_final=pd.concat((data,Embarked_dumm), axis=1)"
   ]
  },
  {
   "cell_type": "code",
   "execution_count": 29,
   "id": "40986cd2",
   "metadata": {},
   "outputs": [],
   "source": [
    "data_final=data_final.drop(['Embarked'], axis=1)"
   ]
  },
  {
   "cell_type": "code",
   "execution_count": 30,
   "id": "d78ffe4d",
   "metadata": {},
   "outputs": [
    {
     "data": {
      "image/png": "[encoded data removed]",
      "text/plain": [
       "<Figure size 2160x1440 with 2 Axes>"
      ]
     },
     "metadata": {},
     "output_type": "display_data"
    }
   ],
   "source": [
    "mask=np.zeros_like(data_final.corr())\n",
    "mask[np.triu_indices_from(mask)]=True\n",
    "fig,ax = plt.subplots(figsize= (30,20));\n",
    "ax= sns.heatmap(data_final.corr(), mask=mask, annot=True, cmap=sns.diverging_palette(220, 20, as_cmap = True))"
   ]
  },
  {
   "cell_type": "markdown",
   "id": "3cc723f0",
   "metadata": {},
   "source": [
    "## Now we split the training, let the model learn and see our score!"
   ]
  },
  {
   "cell_type": "code",
   "execution_count": 32,
   "id": "03f6aef8",
   "metadata": {},
   "outputs": [],
   "source": [
    "final_test_X=data_final.drop(data_final[np.isnan(data_final['Survived'])].index)\n",
    "model_train = data_final.dropna(subset=[\"Survived\"])\n",
    "X = model_train.drop(['Survived'], axis=1)\n",
    "y = model_train['Survived']"
   ]
  },
  {
   "cell_type": "code",
   "execution_count": 33,
   "id": "0aa2e8ad",
   "metadata": {},
   "outputs": [
    {
     "data": {
      "text/plain": [
       "(891, 11)"
      ]
     },
     "execution_count": 33,
     "metadata": {},
     "output_type": "execute_result"
    }
   ],
   "source": [
    "X.shape"
   ]
  },
  {
   "cell_type": "code",
   "execution_count": 34,
   "id": "e8c20f6d",
   "metadata": {},
   "outputs": [
    {
     "data": {
      "text/plain": [
       "(891,)"
      ]
     },
     "execution_count": 34,
     "metadata": {},
     "output_type": "execute_result"
    }
   ],
   "source": [
    "y.shape"
   ]
  },
  {
   "cell_type": "code",
   "execution_count": 35,
   "id": "1e3ef7e0",
   "metadata": {},
   "outputs": [],
   "source": [
    "X_train,X_test,y_train,y_test=train_test_split(X,y, random_state=40)"
   ]
  },
  {
   "cell_type": "code",
   "execution_count": 36,
   "id": "70aaeffe",
   "metadata": {},
   "outputs": [],
   "source": [
    "params={'boosting_type':['gbdt'], \n",
    "        'learning_rate':[0.8,0.5,0.3,0.1,0.01,0.001], \n",
    "        'max_depth':[1,3,5,7,9,12,15],\n",
    "        'n_estimators':[100,300,500,700,1000,1500], \n",
    "        'num_leaves':[20,35,50,75,100,150,300,500], \n",
    "        'random_state':[40]}"
   ]
  },
  {
   "cell_type": "code",
   "execution_count": 37,
   "id": "e3ac2b97",
   "metadata": {},
   "outputs": [],
   "source": [
    "model = lgb.LGBMClassifier()"
   ]
  },
  {
   "cell_type": "code",
   "execution_count": 38,
   "id": "acd74b6b",
   "metadata": {},
   "outputs": [
    {
     "name": "stdout",
     "output_type": "stream",
     "text": [
      "Fitting 5 folds for each of 2016 candidates, totalling 10080 fits\n"
     ]
    },
    {
     "data": {
      "text/plain": [
       "GridSearchCV(cv=5, estimator=LGBMClassifier(), n_jobs=-1,\n",
       "             param_grid={'boosting_type': ['gbdt'],\n",
       "                         'learning_rate': [0.8, 0.5, 0.3, 0.1, 0.01, 0.001],\n",
       "                         'max_depth': [1, 3, 5, 7, 9, 12, 15],\n",
       "                         'n_estimators': [100, 300, 500, 700, 1000, 1500],\n",
       "                         'num_leaves': [20, 35, 50, 75, 100, 150, 300, 500],\n",
       "                         'random_state': [40]},\n",
       "             verbose=True)"
      ]
     },
     "execution_count": 38,
     "metadata": {},
     "output_type": "execute_result"
    }
   ],
   "source": [
    "gscv= GridSearchCV(model,params,cv=5,n_jobs=-1,verbose=True)\n",
    "\n",
    "gscv.fit(X_train,y_train,eval_set=(X_test,y_test),early_stopping_rounds=50,verbose=False)"
   ]
  },
  {
   "cell_type": "code",
   "execution_count": 43,
   "id": "c2c8bc07",
   "metadata": {},
   "outputs": [
    {
     "name": "stdout",
     "output_type": "stream",
     "text": [
      "0.8832335329341318\n",
      "0.852017937219731\n"
     ]
    },
    {
     "data": {
      "text/plain": [
       "{'boosting_type': 'gbdt',\n",
       " 'learning_rate': 0.01,\n",
       " 'max_depth': 7,\n",
       " 'n_estimators': 300,\n",
       " 'num_leaves': 35,\n",
       " 'random_state': 40}"
      ]
     },
     "execution_count": 43,
     "metadata": {},
     "output_type": "execute_result"
    }
   ],
   "source": [
    "y_preds=gscv.predict(X_train)\n",
    "t_preds=gscv.predict(X_test)\n",
    "print(accuracy_score(y_preds,y_train))\n",
    "print(accuracy_score(t_preds,y_test))\n",
    "\n",
    "preds = gscv.predict(final_test_X.drop(['Survived'], axis=1))\n",
    "gscv.best_params_"
   ]
  },
  {
   "cell_type": "code",
   "execution_count": 48,
   "id": "138d2e89",
   "metadata": {},
   "outputs": [],
   "source": [
    "best_params={'boosting_type': ['gbdt'],\n",
    " 'learning_rate': [0.01],\n",
    " 'max_depth': [7],\n",
    " 'n_estimators': [300],\n",
    " 'num_leaves': [35],\n",
    " 'random_state': [40]}"
   ]
  },
  {
   "cell_type": "code",
   "execution_count": 50,
   "id": "8cb66651",
   "metadata": {},
   "outputs": [
    {
     "name": "stdout",
     "output_type": "stream",
     "text": [
      "Fitting 5 folds for each of 1 candidates, totalling 5 fits\n"
     ]
    },
    {
     "data": {
      "text/plain": [
       "GridSearchCV(cv=5, estimator=LGBMClassifier(), n_jobs=-1,\n",
       "             param_grid={'boosting_type': ['gbdt'], 'learning_rate': [0.01],\n",
       "                         'max_depth': [7], 'n_estimators': [300],\n",
       "                         'num_leaves': [35], 'random_state': [40]},\n",
       "             verbose=1)"
      ]
     },
     "execution_count": 50,
     "metadata": {},
     "output_type": "execute_result"
    }
   ],
   "source": [
    "gscv= GridSearchCV(model,best_params,cv=5,n_jobs=-1,verbose=1)\n",
    "gscv.fit(X_train,y_train,eval_set=(X_test,y_test),early_stopping_rounds=5,verbose=False)"
   ]
  },
  {
   "cell_type": "code",
   "execution_count": 52,
   "id": "9033fb29",
   "metadata": {},
   "outputs": [
    {
     "name": "stdout",
     "output_type": "stream",
     "text": [
      "Train accuracy:  0.8682634730538922\n",
      "Test accuracy:  0.8430493273542601\n"
     ]
    }
   ],
   "source": [
    "# now we check for overfitting\n",
    "y_preds=gscv.predict(X_train)\n",
    "t_preds=gscv.predict(X_test)\n",
    "\n",
    "print('Train accuracy: ',accuracy_score(y_preds,y_train))\n",
    "print('Test accuracy: ',accuracy_score(t_preds,y_test))\n",
    "\n",
    "preds = gscv.predict(final_test_X.drop(['Survived'], axis=1))"
   ]
  },
  {
   "cell_type": "markdown",
   "id": "67601d7c",
   "metadata": {},
   "source": [
    "The accuracy scores are very similar, so no signs of overfitting. Voila!"
   ]
  }
 ],
 "metadata": {
  "kernelspec": {
   "display_name": "Python 3 (ipykernel)",
   "language": "python",
   "name": "python3"
  },
  "language_info": {
   "codemirror_mode": {
    "name": "ipython",
    "version": 3
   },
   "file_extension": ".py",
   "mimetype": "text/x-python",
   "name": "python",
   "nbconvert_exporter": "python",
   "pygments_lexer": "ipython3",
   "version": "3.9.7"
  },
  "toc": {
   "base_numbering": 1,
   "nav_menu": {},
   "number_sections": true,
   "sideBar": true,
   "skip_h1_title": false,
   "title_cell": "Table of Contents",
   "title_sidebar": "Contents",
   "toc_cell": false,
   "toc_position": {},
   "toc_section_display": true,
   "toc_window_display": false
  },
  "varInspector": {
   "cols": {
    "lenName": 16,
    "lenType": 16,
    "lenVar": 40
   },
   "kernels_config": {
    "python": {
     "delete_cmd_postfix": "",
     "delete_cmd_prefix": "del ",
     "library": "var_list.py",
     "varRefreshCmd": "print(var_dic_list())"
    },
    "r": {
     "delete_cmd_postfix": ") ",
     "delete_cmd_prefix": "rm(",
     "library": "var_list.r",
     "varRefreshCmd": "cat(var_dic_list()) "
    }
   },
   "types_to_exclude": [
    "module",
    "function",
    "builtin_function_or_method",
    "instance",
    "_Feature"
   ],
   "window_display": false
  }
 },
 "nbformat": 4,
 "nbformat_minor": 5
}
