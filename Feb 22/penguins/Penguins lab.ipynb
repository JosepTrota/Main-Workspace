{
 "cells": [
  {
   "cell_type": "code",
   "execution_count": 1,
   "id": "ffad8f22",
   "metadata": {},
   "outputs": [],
   "source": [
    "import numpy as np \n",
    "import pandas as pd\n",
    "import seaborn as sns\n",
    "import matplotlib.pyplot as plt\n",
    "from sklearn import preprocessing\n",
    "from sklearn.linear_model import LogisticRegression\n",
    "from sklearn.model_selection import train_test_split\n",
    "from sklearn.metrics import confusion_matrix, plot_confusion_matrix\n",
    "from sklearn.preprocessing import MinMaxScaler"
   ]
  },
  {
   "cell_type": "markdown",
   "id": "0b615956",
   "metadata": {},
   "source": [
    "### Import dataset"
   ]
  },
  {
   "cell_type": "code",
   "execution_count": 2,
   "id": "1c95de62",
   "metadata": {},
   "outputs": [],
   "source": [
    "data=pd.read_csv('penguins_size.csv')"
   ]
  },
  {
   "cell_type": "markdown",
   "id": "f2fc06b7",
   "metadata": {},
   "source": [
    "### Explore dataset"
   ]
  },
  {
   "cell_type": "code",
   "execution_count": 3,
   "id": "29bc127a",
   "metadata": {},
   "outputs": [
    {
     "data": {
      "text/html": [
       "<div>\n",
       "<style scoped>\n",
       "    .dataframe tbody tr th:only-of-type {\n",
       "        vertical-align: middle;\n",
       "    }\n",
       "\n",
       "    .dataframe tbody tr th {\n",
       "        vertical-align: top;\n",
       "    }\n",
       "\n",
       "    .dataframe thead th {\n",
       "        text-align: right;\n",
       "    }\n",
       "</style>\n",
       "<table border=\"1\" class=\"dataframe\">\n",
       "  <thead>\n",
       "    <tr style=\"text-align: right;\">\n",
       "      <th></th>\n",
       "      <th>species</th>\n",
       "      <th>island</th>\n",
       "      <th>culmen_length_mm</th>\n",
       "      <th>culmen_depth_mm</th>\n",
       "      <th>flipper_length_mm</th>\n",
       "      <th>body_mass_g</th>\n",
       "      <th>sex</th>\n",
       "    </tr>\n",
       "  </thead>\n",
       "  <tbody>\n",
       "    <tr>\n",
       "      <th>0</th>\n",
       "      <td>Adelie</td>\n",
       "      <td>Torgersen</td>\n",
       "      <td>39.1</td>\n",
       "      <td>18.7</td>\n",
       "      <td>181.0</td>\n",
       "      <td>3750.0</td>\n",
       "      <td>MALE</td>\n",
       "    </tr>\n",
       "    <tr>\n",
       "      <th>1</th>\n",
       "      <td>Adelie</td>\n",
       "      <td>Torgersen</td>\n",
       "      <td>39.5</td>\n",
       "      <td>17.4</td>\n",
       "      <td>186.0</td>\n",
       "      <td>3800.0</td>\n",
       "      <td>FEMALE</td>\n",
       "    </tr>\n",
       "    <tr>\n",
       "      <th>2</th>\n",
       "      <td>Adelie</td>\n",
       "      <td>Torgersen</td>\n",
       "      <td>40.3</td>\n",
       "      <td>18.0</td>\n",
       "      <td>195.0</td>\n",
       "      <td>3250.0</td>\n",
       "      <td>FEMALE</td>\n",
       "    </tr>\n",
       "    <tr>\n",
       "      <th>3</th>\n",
       "      <td>Adelie</td>\n",
       "      <td>Torgersen</td>\n",
       "      <td>NaN</td>\n",
       "      <td>NaN</td>\n",
       "      <td>NaN</td>\n",
       "      <td>NaN</td>\n",
       "      <td>NaN</td>\n",
       "    </tr>\n",
       "    <tr>\n",
       "      <th>4</th>\n",
       "      <td>Adelie</td>\n",
       "      <td>Torgersen</td>\n",
       "      <td>36.7</td>\n",
       "      <td>19.3</td>\n",
       "      <td>193.0</td>\n",
       "      <td>3450.0</td>\n",
       "      <td>FEMALE</td>\n",
       "    </tr>\n",
       "  </tbody>\n",
       "</table>\n",
       "</div>"
      ],
      "text/plain": [
       "  species     island  culmen_length_mm  culmen_depth_mm  flipper_length_mm  \\\n",
       "0  Adelie  Torgersen              39.1             18.7              181.0   \n",
       "1  Adelie  Torgersen              39.5             17.4              186.0   \n",
       "2  Adelie  Torgersen              40.3             18.0              195.0   \n",
       "3  Adelie  Torgersen               NaN              NaN                NaN   \n",
       "4  Adelie  Torgersen              36.7             19.3              193.0   \n",
       "\n",
       "   body_mass_g     sex  \n",
       "0       3750.0    MALE  \n",
       "1       3800.0  FEMALE  \n",
       "2       3250.0  FEMALE  \n",
       "3          NaN     NaN  \n",
       "4       3450.0  FEMALE  "
      ]
     },
     "execution_count": 3,
     "metadata": {},
     "output_type": "execute_result"
    }
   ],
   "source": [
    "data.head()"
   ]
  },
  {
   "cell_type": "code",
   "execution_count": 4,
   "id": "f78319fc",
   "metadata": {},
   "outputs": [
    {
     "data": {
      "text/html": [
       "<div>\n",
       "<style scoped>\n",
       "    .dataframe tbody tr th:only-of-type {\n",
       "        vertical-align: middle;\n",
       "    }\n",
       "\n",
       "    .dataframe tbody tr th {\n",
       "        vertical-align: top;\n",
       "    }\n",
       "\n",
       "    .dataframe thead th {\n",
       "        text-align: right;\n",
       "    }\n",
       "</style>\n",
       "<table border=\"1\" class=\"dataframe\">\n",
       "  <thead>\n",
       "    <tr style=\"text-align: right;\">\n",
       "      <th></th>\n",
       "      <th>culmen_length_mm</th>\n",
       "      <th>culmen_depth_mm</th>\n",
       "      <th>flipper_length_mm</th>\n",
       "      <th>body_mass_g</th>\n",
       "    </tr>\n",
       "  </thead>\n",
       "  <tbody>\n",
       "    <tr>\n",
       "      <th>count</th>\n",
       "      <td>342.000000</td>\n",
       "      <td>342.000000</td>\n",
       "      <td>342.000000</td>\n",
       "      <td>342.000000</td>\n",
       "    </tr>\n",
       "    <tr>\n",
       "      <th>mean</th>\n",
       "      <td>43.921930</td>\n",
       "      <td>17.151170</td>\n",
       "      <td>200.915205</td>\n",
       "      <td>4201.754386</td>\n",
       "    </tr>\n",
       "    <tr>\n",
       "      <th>std</th>\n",
       "      <td>5.459584</td>\n",
       "      <td>1.974793</td>\n",
       "      <td>14.061714</td>\n",
       "      <td>801.954536</td>\n",
       "    </tr>\n",
       "    <tr>\n",
       "      <th>min</th>\n",
       "      <td>32.100000</td>\n",
       "      <td>13.100000</td>\n",
       "      <td>172.000000</td>\n",
       "      <td>2700.000000</td>\n",
       "    </tr>\n",
       "    <tr>\n",
       "      <th>25%</th>\n",
       "      <td>39.225000</td>\n",
       "      <td>15.600000</td>\n",
       "      <td>190.000000</td>\n",
       "      <td>3550.000000</td>\n",
       "    </tr>\n",
       "    <tr>\n",
       "      <th>50%</th>\n",
       "      <td>44.450000</td>\n",
       "      <td>17.300000</td>\n",
       "      <td>197.000000</td>\n",
       "      <td>4050.000000</td>\n",
       "    </tr>\n",
       "    <tr>\n",
       "      <th>75%</th>\n",
       "      <td>48.500000</td>\n",
       "      <td>18.700000</td>\n",
       "      <td>213.000000</td>\n",
       "      <td>4750.000000</td>\n",
       "    </tr>\n",
       "    <tr>\n",
       "      <th>max</th>\n",
       "      <td>59.600000</td>\n",
       "      <td>21.500000</td>\n",
       "      <td>231.000000</td>\n",
       "      <td>6300.000000</td>\n",
       "    </tr>\n",
       "  </tbody>\n",
       "</table>\n",
       "</div>"
      ],
      "text/plain": [
       "       culmen_length_mm  culmen_depth_mm  flipper_length_mm  body_mass_g\n",
       "count        342.000000       342.000000         342.000000   342.000000\n",
       "mean          43.921930        17.151170         200.915205  4201.754386\n",
       "std            5.459584         1.974793          14.061714   801.954536\n",
       "min           32.100000        13.100000         172.000000  2700.000000\n",
       "25%           39.225000        15.600000         190.000000  3550.000000\n",
       "50%           44.450000        17.300000         197.000000  4050.000000\n",
       "75%           48.500000        18.700000         213.000000  4750.000000\n",
       "max           59.600000        21.500000         231.000000  6300.000000"
      ]
     },
     "execution_count": 4,
     "metadata": {},
     "output_type": "execute_result"
    }
   ],
   "source": [
    "data.describe()"
   ]
  },
  {
   "cell_type": "code",
   "execution_count": 5,
   "id": "262af9af",
   "metadata": {},
   "outputs": [
    {
     "name": "stdout",
     "output_type": "stream",
     "text": [
      "<class 'pandas.core.frame.DataFrame'>\n",
      "RangeIndex: 344 entries, 0 to 343\n",
      "Data columns (total 7 columns):\n",
      " #   Column             Non-Null Count  Dtype  \n",
      "---  ------             --------------  -----  \n",
      " 0   species            344 non-null    object \n",
      " 1   island             344 non-null    object \n",
      " 2   culmen_length_mm   342 non-null    float64\n",
      " 3   culmen_depth_mm    342 non-null    float64\n",
      " 4   flipper_length_mm  342 non-null    float64\n",
      " 5   body_mass_g        342 non-null    float64\n",
      " 6   sex                334 non-null    object \n",
      "dtypes: float64(4), object(3)\n",
      "memory usage: 18.9+ KB\n"
     ]
    }
   ],
   "source": [
    "data.info()"
   ]
  },
  {
   "cell_type": "code",
   "execution_count": 6,
   "id": "46ca7456",
   "metadata": {},
   "outputs": [
    {
     "data": {
      "text/plain": [
       "species                3\n",
       "island                 3\n",
       "culmen_length_mm     164\n",
       "culmen_depth_mm       80\n",
       "flipper_length_mm     55\n",
       "body_mass_g           94\n",
       "sex                    3\n",
       "dtype: int64"
      ]
     },
     "execution_count": 6,
     "metadata": {},
     "output_type": "execute_result"
    }
   ],
   "source": [
    "data.nunique()"
   ]
  },
  {
   "cell_type": "code",
   "execution_count": 8,
   "id": "5f366925",
   "metadata": {},
   "outputs": [],
   "source": [
    "def count_all_cat (df):\n",
    "    for column in df:\n",
    "        if df[column].dtype != np.number:\n",
    "            print (column.upper(), \":\")\n",
    "            print (' ')\n",
    "            print (' ')\n",
    "            print (\"Unique values for\", column, \":\")\n",
    "            print (' ')\n",
    "            print (set(list(df[column])))\n",
    "            print (' ')\n",
    "            print (' ')\n",
    "            print (\"Value counts for\", column, \":\")\n",
    "            print (' ')\n",
    "            print (df[column].value_counts())\n",
    "            print (' ')\n",
    "            print (' ')\n",
    "            print (' ')\n",
    "    "
   ]
  },
  {
   "cell_type": "code",
   "execution_count": 9,
   "id": "5d36ace2",
   "metadata": {
    "scrolled": false
   },
   "outputs": [
    {
     "name": "stdout",
     "output_type": "stream",
     "text": [
      "SPECIES :\n",
      " \n",
      " \n",
      "Unique values for species :\n",
      " \n",
      "{'Gentoo', 'Adelie', 'Chinstrap'}\n",
      " \n",
      " \n",
      "Value counts for species :\n",
      " \n",
      "Adelie       152\n",
      "Gentoo       124\n",
      "Chinstrap     68\n",
      "Name: species, dtype: int64\n",
      " \n",
      " \n",
      " \n",
      "ISLAND :\n",
      " \n",
      " \n",
      "Unique values for island :\n",
      " \n",
      "{'Torgersen', 'Dream', 'Biscoe'}\n",
      " \n",
      " \n",
      "Value counts for island :\n",
      " \n",
      "Biscoe       168\n",
      "Dream        124\n",
      "Torgersen     52\n",
      "Name: island, dtype: int64\n",
      " \n",
      " \n",
      " \n",
      "SEX :\n",
      " \n",
      " \n",
      "Unique values for sex :\n",
      " \n",
      "{'MALE', 'FEMALE', nan, '.'}\n",
      " \n",
      " \n",
      "Value counts for sex :\n",
      " \n",
      "MALE      168\n",
      "FEMALE    165\n",
      ".           1\n",
      "Name: sex, dtype: int64\n",
      " \n",
      " \n",
      " \n"
     ]
    },
    {
     "name": "stderr",
     "output_type": "stream",
     "text": [
      "C:\\Users\\x\\AppData\\Local\\Temp/ipykernel_11196/3849421784.py:3: DeprecationWarning: Converting `np.inexact` or `np.floating` to a dtype is deprecated. The current result is `float64` which is not strictly correct.\n",
      "  if df[column].dtype != np.number:\n"
     ]
    }
   ],
   "source": [
    "count_all_cat(data)"
   ]
  },
  {
   "cell_type": "code",
   "execution_count": 10,
   "id": "eb7ca61d",
   "metadata": {},
   "outputs": [],
   "source": [
    "old_data = data\n",
    "# to store original data - just in case"
   ]
  },
  {
   "cell_type": "markdown",
   "id": "d16f8843",
   "metadata": {},
   "source": [
    "### Dealing with missing data"
   ]
  },
  {
   "cell_type": "code",
   "execution_count": 11,
   "id": "18cc3590",
   "metadata": {},
   "outputs": [
    {
     "data": {
      "text/plain": [
       "(344, 7)"
      ]
     },
     "execution_count": 11,
     "metadata": {},
     "output_type": "execute_result"
    }
   ],
   "source": [
    "data.shape"
   ]
  },
  {
   "cell_type": "code",
   "execution_count": 12,
   "id": "9b02af5c",
   "metadata": {},
   "outputs": [],
   "source": [
    "data=data.drop_duplicates()"
   ]
  },
  {
   "cell_type": "code",
   "execution_count": 13,
   "id": "607c78b5",
   "metadata": {},
   "outputs": [
    {
     "data": {
      "text/plain": [
       "(344, 7)"
      ]
     },
     "execution_count": 13,
     "metadata": {},
     "output_type": "execute_result"
    }
   ],
   "source": [
    "data.shape"
   ]
  },
  {
   "cell_type": "code",
   "execution_count": 14,
   "id": "b094489b",
   "metadata": {},
   "outputs": [
    {
     "name": "stderr",
     "output_type": "stream",
     "text": [
      "C:\\Users\\x\\AppData\\Local\\Temp/ipykernel_11196/2116739561.py:2: DeprecationWarning: Converting `np.inexact` or `np.floating` to a dtype is deprecated. The current result is `float64` which is not strictly correct.\n",
      "  if data[column].dtype == np.number:\n"
     ]
    }
   ],
   "source": [
    "for column in data:\n",
    "        if data[column].dtype == np.number:\n",
    "            data[column].fillna(data[column].mean(), inplace=True)\n",
    "            \n",
    "# to replace nulls with the mean"
   ]
  },
  {
   "cell_type": "code",
   "execution_count": 15,
   "id": "b372c1b4",
   "metadata": {},
   "outputs": [
    {
     "name": "stdout",
     "output_type": "stream",
     "text": [
      "<class 'pandas.core.frame.DataFrame'>\n",
      "Int64Index: 344 entries, 0 to 343\n",
      "Data columns (total 7 columns):\n",
      " #   Column             Non-Null Count  Dtype  \n",
      "---  ------             --------------  -----  \n",
      " 0   species            344 non-null    object \n",
      " 1   island             344 non-null    object \n",
      " 2   culmen_length_mm   344 non-null    float64\n",
      " 3   culmen_depth_mm    344 non-null    float64\n",
      " 4   flipper_length_mm  344 non-null    float64\n",
      " 5   body_mass_g        344 non-null    float64\n",
      " 6   sex                334 non-null    object \n",
      "dtypes: float64(4), object(3)\n",
      "memory usage: 21.5+ KB\n"
     ]
    }
   ],
   "source": [
    "data.info()"
   ]
  },
  {
   "cell_type": "code",
   "execution_count": 16,
   "id": "8bb7f2cf",
   "metadata": {},
   "outputs": [],
   "source": [
    "data['sex']=data['sex'].replace(['.', None], 'Unknown')\n",
    "\n",
    "# to replace nulls and the single '.' with unknows"
   ]
  },
  {
   "cell_type": "code",
   "execution_count": 17,
   "id": "3f976843",
   "metadata": {},
   "outputs": [
    {
     "name": "stdout",
     "output_type": "stream",
     "text": [
      "<class 'pandas.core.frame.DataFrame'>\n",
      "Int64Index: 344 entries, 0 to 343\n",
      "Data columns (total 7 columns):\n",
      " #   Column             Non-Null Count  Dtype  \n",
      "---  ------             --------------  -----  \n",
      " 0   species            344 non-null    object \n",
      " 1   island             344 non-null    object \n",
      " 2   culmen_length_mm   344 non-null    float64\n",
      " 3   culmen_depth_mm    344 non-null    float64\n",
      " 4   flipper_length_mm  344 non-null    float64\n",
      " 5   body_mass_g        344 non-null    float64\n",
      " 6   sex                344 non-null    object \n",
      "dtypes: float64(4), object(3)\n",
      "memory usage: 21.5+ KB\n"
     ]
    }
   ],
   "source": [
    "data.info()"
   ]
  },
  {
   "cell_type": "code",
   "execution_count": 18,
   "id": "447f8a1a",
   "metadata": {},
   "outputs": [
    {
     "name": "stdout",
     "output_type": "stream",
     "text": [
      "SPECIES :\n",
      " \n",
      " \n",
      "Unique values for species :\n",
      " \n",
      "{'Gentoo', 'Adelie', 'Chinstrap'}\n",
      " \n",
      " \n",
      "Value counts for species :\n",
      " \n",
      "Adelie       152\n",
      "Gentoo       124\n",
      "Chinstrap     68\n",
      "Name: species, dtype: int64\n",
      " \n",
      " \n",
      " \n",
      "ISLAND :\n",
      " \n",
      " \n",
      "Unique values for island :\n",
      " \n",
      "{'Torgersen', 'Dream', 'Biscoe'}\n",
      " \n",
      " \n",
      "Value counts for island :\n",
      " \n",
      "Biscoe       168\n",
      "Dream        124\n",
      "Torgersen     52\n",
      "Name: island, dtype: int64\n",
      " \n",
      " \n",
      " \n",
      "SEX :\n",
      " \n",
      " \n",
      "Unique values for sex :\n",
      " \n",
      "{'MALE', 'FEMALE', 'Unknown'}\n",
      " \n",
      " \n",
      "Value counts for sex :\n",
      " \n",
      "MALE       168\n",
      "FEMALE     165\n",
      "Unknown     11\n",
      "Name: sex, dtype: int64\n",
      " \n",
      " \n",
      " \n"
     ]
    },
    {
     "name": "stderr",
     "output_type": "stream",
     "text": [
      "C:\\Users\\x\\AppData\\Local\\Temp/ipykernel_11196/3849421784.py:3: DeprecationWarning: Converting `np.inexact` or `np.floating` to a dtype is deprecated. The current result is `float64` which is not strictly correct.\n",
      "  if df[column].dtype != np.number:\n"
     ]
    }
   ],
   "source": [
    "count_all_cat(data)"
   ]
  },
  {
   "cell_type": "markdown",
   "id": "823f5bed",
   "metadata": {},
   "source": [
    "### Convert mm to cm"
   ]
  },
  {
   "cell_type": "code",
   "execution_count": 19,
   "id": "153ce560",
   "metadata": {},
   "outputs": [],
   "source": [
    "for column in data:\n",
    "    if str(data[column].name)[-2:] == 'mm':\n",
    "        data[str(data[column].name)[:-2] + 'cm'] = data[column]/10"
   ]
  },
  {
   "cell_type": "code",
   "execution_count": 20,
   "id": "fbc76276",
   "metadata": {},
   "outputs": [
    {
     "data": {
      "text/html": [
       "<div>\n",
       "<style scoped>\n",
       "    .dataframe tbody tr th:only-of-type {\n",
       "        vertical-align: middle;\n",
       "    }\n",
       "\n",
       "    .dataframe tbody tr th {\n",
       "        vertical-align: top;\n",
       "    }\n",
       "\n",
       "    .dataframe thead th {\n",
       "        text-align: right;\n",
       "    }\n",
       "</style>\n",
       "<table border=\"1\" class=\"dataframe\">\n",
       "  <thead>\n",
       "    <tr style=\"text-align: right;\">\n",
       "      <th></th>\n",
       "      <th>species</th>\n",
       "      <th>island</th>\n",
       "      <th>culmen_length_mm</th>\n",
       "      <th>culmen_depth_mm</th>\n",
       "      <th>flipper_length_mm</th>\n",
       "      <th>body_mass_g</th>\n",
       "      <th>sex</th>\n",
       "      <th>culmen_length_cm</th>\n",
       "      <th>culmen_depth_cm</th>\n",
       "      <th>flipper_length_cm</th>\n",
       "    </tr>\n",
       "  </thead>\n",
       "  <tbody>\n",
       "    <tr>\n",
       "      <th>0</th>\n",
       "      <td>Adelie</td>\n",
       "      <td>Torgersen</td>\n",
       "      <td>39.10000</td>\n",
       "      <td>18.70000</td>\n",
       "      <td>181.000000</td>\n",
       "      <td>3750.000000</td>\n",
       "      <td>MALE</td>\n",
       "      <td>3.910000</td>\n",
       "      <td>1.870000</td>\n",
       "      <td>18.10000</td>\n",
       "    </tr>\n",
       "    <tr>\n",
       "      <th>1</th>\n",
       "      <td>Adelie</td>\n",
       "      <td>Torgersen</td>\n",
       "      <td>39.50000</td>\n",
       "      <td>17.40000</td>\n",
       "      <td>186.000000</td>\n",
       "      <td>3800.000000</td>\n",
       "      <td>FEMALE</td>\n",
       "      <td>3.950000</td>\n",
       "      <td>1.740000</td>\n",
       "      <td>18.60000</td>\n",
       "    </tr>\n",
       "    <tr>\n",
       "      <th>2</th>\n",
       "      <td>Adelie</td>\n",
       "      <td>Torgersen</td>\n",
       "      <td>40.30000</td>\n",
       "      <td>18.00000</td>\n",
       "      <td>195.000000</td>\n",
       "      <td>3250.000000</td>\n",
       "      <td>FEMALE</td>\n",
       "      <td>4.030000</td>\n",
       "      <td>1.800000</td>\n",
       "      <td>19.50000</td>\n",
       "    </tr>\n",
       "    <tr>\n",
       "      <th>3</th>\n",
       "      <td>Adelie</td>\n",
       "      <td>Torgersen</td>\n",
       "      <td>43.92193</td>\n",
       "      <td>17.15117</td>\n",
       "      <td>200.915205</td>\n",
       "      <td>4201.754386</td>\n",
       "      <td>Unknown</td>\n",
       "      <td>4.392193</td>\n",
       "      <td>1.715117</td>\n",
       "      <td>20.09152</td>\n",
       "    </tr>\n",
       "    <tr>\n",
       "      <th>4</th>\n",
       "      <td>Adelie</td>\n",
       "      <td>Torgersen</td>\n",
       "      <td>36.70000</td>\n",
       "      <td>19.30000</td>\n",
       "      <td>193.000000</td>\n",
       "      <td>3450.000000</td>\n",
       "      <td>FEMALE</td>\n",
       "      <td>3.670000</td>\n",
       "      <td>1.930000</td>\n",
       "      <td>19.30000</td>\n",
       "    </tr>\n",
       "  </tbody>\n",
       "</table>\n",
       "</div>"
      ],
      "text/plain": [
       "  species     island  culmen_length_mm  culmen_depth_mm  flipper_length_mm  \\\n",
       "0  Adelie  Torgersen          39.10000         18.70000         181.000000   \n",
       "1  Adelie  Torgersen          39.50000         17.40000         186.000000   \n",
       "2  Adelie  Torgersen          40.30000         18.00000         195.000000   \n",
       "3  Adelie  Torgersen          43.92193         17.15117         200.915205   \n",
       "4  Adelie  Torgersen          36.70000         19.30000         193.000000   \n",
       "\n",
       "   body_mass_g      sex  culmen_length_cm  culmen_depth_cm  flipper_length_cm  \n",
       "0  3750.000000     MALE          3.910000         1.870000           18.10000  \n",
       "1  3800.000000   FEMALE          3.950000         1.740000           18.60000  \n",
       "2  3250.000000   FEMALE          4.030000         1.800000           19.50000  \n",
       "3  4201.754386  Unknown          4.392193         1.715117           20.09152  \n",
       "4  3450.000000   FEMALE          3.670000         1.930000           19.30000  "
      ]
     },
     "execution_count": 20,
     "metadata": {},
     "output_type": "execute_result"
    }
   ],
   "source": [
    "data.head()"
   ]
  },
  {
   "cell_type": "code",
   "execution_count": 21,
   "id": "49b8f771",
   "metadata": {},
   "outputs": [
    {
     "data": {
      "text/html": [
       "<div>\n",
       "<style scoped>\n",
       "    .dataframe tbody tr th:only-of-type {\n",
       "        vertical-align: middle;\n",
       "    }\n",
       "\n",
       "    .dataframe tbody tr th {\n",
       "        vertical-align: top;\n",
       "    }\n",
       "\n",
       "    .dataframe thead th {\n",
       "        text-align: right;\n",
       "    }\n",
       "</style>\n",
       "<table border=\"1\" class=\"dataframe\">\n",
       "  <thead>\n",
       "    <tr style=\"text-align: right;\">\n",
       "      <th></th>\n",
       "      <th>species</th>\n",
       "      <th>island</th>\n",
       "      <th>body_mass_g</th>\n",
       "      <th>sex</th>\n",
       "      <th>culmen_length_cm</th>\n",
       "      <th>culmen_depth_cm</th>\n",
       "      <th>flipper_length_cm</th>\n",
       "    </tr>\n",
       "  </thead>\n",
       "  <tbody>\n",
       "    <tr>\n",
       "      <th>0</th>\n",
       "      <td>Adelie</td>\n",
       "      <td>Torgersen</td>\n",
       "      <td>3750.000000</td>\n",
       "      <td>MALE</td>\n",
       "      <td>3.910000</td>\n",
       "      <td>1.870000</td>\n",
       "      <td>18.10000</td>\n",
       "    </tr>\n",
       "    <tr>\n",
       "      <th>1</th>\n",
       "      <td>Adelie</td>\n",
       "      <td>Torgersen</td>\n",
       "      <td>3800.000000</td>\n",
       "      <td>FEMALE</td>\n",
       "      <td>3.950000</td>\n",
       "      <td>1.740000</td>\n",
       "      <td>18.60000</td>\n",
       "    </tr>\n",
       "    <tr>\n",
       "      <th>2</th>\n",
       "      <td>Adelie</td>\n",
       "      <td>Torgersen</td>\n",
       "      <td>3250.000000</td>\n",
       "      <td>FEMALE</td>\n",
       "      <td>4.030000</td>\n",
       "      <td>1.800000</td>\n",
       "      <td>19.50000</td>\n",
       "    </tr>\n",
       "    <tr>\n",
       "      <th>3</th>\n",
       "      <td>Adelie</td>\n",
       "      <td>Torgersen</td>\n",
       "      <td>4201.754386</td>\n",
       "      <td>Unknown</td>\n",
       "      <td>4.392193</td>\n",
       "      <td>1.715117</td>\n",
       "      <td>20.09152</td>\n",
       "    </tr>\n",
       "    <tr>\n",
       "      <th>4</th>\n",
       "      <td>Adelie</td>\n",
       "      <td>Torgersen</td>\n",
       "      <td>3450.000000</td>\n",
       "      <td>FEMALE</td>\n",
       "      <td>3.670000</td>\n",
       "      <td>1.930000</td>\n",
       "      <td>19.30000</td>\n",
       "    </tr>\n",
       "  </tbody>\n",
       "</table>\n",
       "</div>"
      ],
      "text/plain": [
       "  species     island  body_mass_g      sex  culmen_length_cm  culmen_depth_cm  \\\n",
       "0  Adelie  Torgersen  3750.000000     MALE          3.910000         1.870000   \n",
       "1  Adelie  Torgersen  3800.000000   FEMALE          3.950000         1.740000   \n",
       "2  Adelie  Torgersen  3250.000000   FEMALE          4.030000         1.800000   \n",
       "3  Adelie  Torgersen  4201.754386  Unknown          4.392193         1.715117   \n",
       "4  Adelie  Torgersen  3450.000000   FEMALE          3.670000         1.930000   \n",
       "\n",
       "   flipper_length_cm  \n",
       "0           18.10000  \n",
       "1           18.60000  \n",
       "2           19.50000  \n",
       "3           20.09152  \n",
       "4           19.30000  "
      ]
     },
     "execution_count": 21,
     "metadata": {},
     "output_type": "execute_result"
    }
   ],
   "source": [
    "nomm_columns_lst = []\n",
    "for column in data:\n",
    "    if str(data[column].name)[-2:] != 'mm':\n",
    "        nomm_columns_lst.append(data[column].name)\n",
    "data = data[nomm_columns_lst]\n",
    "\n",
    "data.head()"
   ]
  },
  {
   "cell_type": "markdown",
   "id": "4816da6b",
   "metadata": {},
   "source": [
    "### Explore the data to search for outliers"
   ]
  },
  {
   "cell_type": "code",
   "execution_count": 22,
   "id": "1cf806dc",
   "metadata": {},
   "outputs": [
    {
     "name": "stdout",
     "output_type": "stream",
     "text": [
      "0\n"
     ]
    }
   ],
   "source": [
    "def find_outliers(col):\n",
    "    q1 = col.quantile(.25)\n",
    "    q3 = col.quantile(.75)\n",
    "    IQR = q3 - q1\n",
    "    ll = q1 - (1.5*IQR)\n",
    "    ul = q3 + (1.5*IQR)\n",
    "    upper_outliers = col[col > ul].index.tolist()\n",
    "    lower_outliers = col[col < ll].index.tolist()\n",
    "    bad_indices = list(set(upper_outliers + lower_outliers))\n",
    "    return(bad_indices)\n",
    "\n",
    "bad_indexes = []\n",
    "for col in data.columns:\n",
    "    if data[col].dtype in [\"int64\",\"float64\"]:\n",
    "        bad_indexes.append(find_outliers(data[col]))\n",
    "\n",
    "bad_indexes = set(list(np.concatenate(bad_indexes).flat))\n",
    "print(len(bad_indexes))"
   ]
  },
  {
   "cell_type": "markdown",
   "id": "4aad8dfb",
   "metadata": {},
   "source": [
    "we have no outliers\n",
    "\n",
    "### Correlation matrix with a heatmap"
   ]
  },
  {
   "cell_type": "code",
   "execution_count": 23,
   "id": "a85059b9",
   "metadata": {},
   "outputs": [
    {
     "data": {
      "text/html": [
       "<div>\n",
       "<style scoped>\n",
       "    .dataframe tbody tr th:only-of-type {\n",
       "        vertical-align: middle;\n",
       "    }\n",
       "\n",
       "    .dataframe tbody tr th {\n",
       "        vertical-align: top;\n",
       "    }\n",
       "\n",
       "    .dataframe thead th {\n",
       "        text-align: right;\n",
       "    }\n",
       "</style>\n",
       "<table border=\"1\" class=\"dataframe\">\n",
       "  <thead>\n",
       "    <tr style=\"text-align: right;\">\n",
       "      <th></th>\n",
       "      <th>body_mass_g</th>\n",
       "      <th>culmen_length_cm</th>\n",
       "      <th>culmen_depth_cm</th>\n",
       "      <th>flipper_length_cm</th>\n",
       "    </tr>\n",
       "  </thead>\n",
       "  <tbody>\n",
       "    <tr>\n",
       "      <th>body_mass_g</th>\n",
       "      <td>1.000000</td>\n",
       "      <td>0.595110</td>\n",
       "      <td>-0.471916</td>\n",
       "      <td>0.871202</td>\n",
       "    </tr>\n",
       "    <tr>\n",
       "      <th>culmen_length_cm</th>\n",
       "      <td>0.595110</td>\n",
       "      <td>1.000000</td>\n",
       "      <td>-0.235053</td>\n",
       "      <td>0.656181</td>\n",
       "    </tr>\n",
       "    <tr>\n",
       "      <th>culmen_depth_cm</th>\n",
       "      <td>-0.471916</td>\n",
       "      <td>-0.235053</td>\n",
       "      <td>1.000000</td>\n",
       "      <td>-0.583851</td>\n",
       "    </tr>\n",
       "    <tr>\n",
       "      <th>flipper_length_cm</th>\n",
       "      <td>0.871202</td>\n",
       "      <td>0.656181</td>\n",
       "      <td>-0.583851</td>\n",
       "      <td>1.000000</td>\n",
       "    </tr>\n",
       "  </tbody>\n",
       "</table>\n",
       "</div>"
      ],
      "text/plain": [
       "                   body_mass_g  culmen_length_cm  culmen_depth_cm  \\\n",
       "body_mass_g           1.000000          0.595110        -0.471916   \n",
       "culmen_length_cm      0.595110          1.000000        -0.235053   \n",
       "culmen_depth_cm      -0.471916         -0.235053         1.000000   \n",
       "flipper_length_cm     0.871202          0.656181        -0.583851   \n",
       "\n",
       "                   flipper_length_cm  \n",
       "body_mass_g                 0.871202  \n",
       "culmen_length_cm            0.656181  \n",
       "culmen_depth_cm            -0.583851  \n",
       "flipper_length_cm           1.000000  "
      ]
     },
     "execution_count": 23,
     "metadata": {},
     "output_type": "execute_result"
    }
   ],
   "source": [
    "corre_matrix = data.corr()\n",
    "\n",
    "corre_matrix"
   ]
  },
  {
   "cell_type": "code",
   "execution_count": 24,
   "id": "840547d6",
   "metadata": {},
   "outputs": [
    {
     "data": {
      "image/png": "[encoded data removed]",
      "text/plain": [
       "<Figure size 2160x1440 with 2 Axes>"
      ]
     },
     "metadata": {
      "needs_background": "light"
     },
     "output_type": "display_data"
    }
   ],
   "source": [
    "mask=np.zeros_like(corre_matrix)\n",
    "mask[np.triu_indices_from(mask)]=True\n",
    "fig,ax = plt.subplots(figsize= (30,20));\n",
    "ax= sns.heatmap(corre_matrix, mask=mask, annot=True, cmap=sns.diverging_palette(220, 20, as_cmap = True))"
   ]
  },
  {
   "cell_type": "markdown",
   "id": "c8563623",
   "metadata": {},
   "source": [
    "### Modeling and predicting the relationship between numerical features and the label (species)"
   ]
  },
  {
   "cell_type": "code",
   "execution_count": 25,
   "id": "a59c9ff3",
   "metadata": {},
   "outputs": [],
   "source": [
    "X_cat=data[['island', 'sex']]\n",
    "\n",
    "#this will be useful later ;)"
   ]
  },
  {
   "cell_type": "code",
   "execution_count": 26,
   "id": "2c426d66",
   "metadata": {},
   "outputs": [],
   "source": [
    "data.drop(data.columns[[1, 3]], axis = 1, inplace = True)"
   ]
  },
  {
   "cell_type": "code",
   "execution_count": 27,
   "id": "89b8fe3b",
   "metadata": {
    "scrolled": true
   },
   "outputs": [
    {
     "data": {
      "text/html": [
       "<div>\n",
       "<style scoped>\n",
       "    .dataframe tbody tr th:only-of-type {\n",
       "        vertical-align: middle;\n",
       "    }\n",
       "\n",
       "    .dataframe tbody tr th {\n",
       "        vertical-align: top;\n",
       "    }\n",
       "\n",
       "    .dataframe thead th {\n",
       "        text-align: right;\n",
       "    }\n",
       "</style>\n",
       "<table border=\"1\" class=\"dataframe\">\n",
       "  <thead>\n",
       "    <tr style=\"text-align: right;\">\n",
       "      <th></th>\n",
       "      <th>species</th>\n",
       "      <th>body_mass_g</th>\n",
       "      <th>culmen_length_cm</th>\n",
       "      <th>culmen_depth_cm</th>\n",
       "      <th>flipper_length_cm</th>\n",
       "    </tr>\n",
       "  </thead>\n",
       "  <tbody>\n",
       "    <tr>\n",
       "      <th>0</th>\n",
       "      <td>Adelie</td>\n",
       "      <td>3750.000000</td>\n",
       "      <td>3.910000</td>\n",
       "      <td>1.870000</td>\n",
       "      <td>18.10000</td>\n",
       "    </tr>\n",
       "    <tr>\n",
       "      <th>1</th>\n",
       "      <td>Adelie</td>\n",
       "      <td>3800.000000</td>\n",
       "      <td>3.950000</td>\n",
       "      <td>1.740000</td>\n",
       "      <td>18.60000</td>\n",
       "    </tr>\n",
       "    <tr>\n",
       "      <th>2</th>\n",
       "      <td>Adelie</td>\n",
       "      <td>3250.000000</td>\n",
       "      <td>4.030000</td>\n",
       "      <td>1.800000</td>\n",
       "      <td>19.50000</td>\n",
       "    </tr>\n",
       "    <tr>\n",
       "      <th>3</th>\n",
       "      <td>Adelie</td>\n",
       "      <td>4201.754386</td>\n",
       "      <td>4.392193</td>\n",
       "      <td>1.715117</td>\n",
       "      <td>20.09152</td>\n",
       "    </tr>\n",
       "    <tr>\n",
       "      <th>4</th>\n",
       "      <td>Adelie</td>\n",
       "      <td>3450.000000</td>\n",
       "      <td>3.670000</td>\n",
       "      <td>1.930000</td>\n",
       "      <td>19.30000</td>\n",
       "    </tr>\n",
       "  </tbody>\n",
       "</table>\n",
       "</div>"
      ],
      "text/plain": [
       "  species  body_mass_g  culmen_length_cm  culmen_depth_cm  flipper_length_cm\n",
       "0  Adelie  3750.000000          3.910000         1.870000           18.10000\n",
       "1  Adelie  3800.000000          3.950000         1.740000           18.60000\n",
       "2  Adelie  3250.000000          4.030000         1.800000           19.50000\n",
       "3  Adelie  4201.754386          4.392193         1.715117           20.09152\n",
       "4  Adelie  3450.000000          3.670000         1.930000           19.30000"
      ]
     },
     "execution_count": 27,
     "metadata": {},
     "output_type": "execute_result"
    }
   ],
   "source": [
    "data.head()"
   ]
  },
  {
   "cell_type": "code",
   "execution_count": 28,
   "id": "b34ab9ea",
   "metadata": {},
   "outputs": [],
   "source": [
    "y=data['species']\n",
    "X=data._get_numeric_data()"
   ]
  },
  {
   "cell_type": "code",
   "execution_count": 29,
   "id": "0c0e99e3",
   "metadata": {},
   "outputs": [
    {
     "data": {
      "text/html": [
       "<div>\n",
       "<style scoped>\n",
       "    .dataframe tbody tr th:only-of-type {\n",
       "        vertical-align: middle;\n",
       "    }\n",
       "\n",
       "    .dataframe tbody tr th {\n",
       "        vertical-align: top;\n",
       "    }\n",
       "\n",
       "    .dataframe thead th {\n",
       "        text-align: right;\n",
       "    }\n",
       "</style>\n",
       "<table border=\"1\" class=\"dataframe\">\n",
       "  <thead>\n",
       "    <tr style=\"text-align: right;\">\n",
       "      <th></th>\n",
       "      <th>body_mass_g</th>\n",
       "      <th>culmen_length_cm</th>\n",
       "      <th>culmen_depth_cm</th>\n",
       "      <th>flipper_length_cm</th>\n",
       "    </tr>\n",
       "  </thead>\n",
       "  <tbody>\n",
       "    <tr>\n",
       "      <th>0</th>\n",
       "      <td>3750.000000</td>\n",
       "      <td>3.910000</td>\n",
       "      <td>1.870000</td>\n",
       "      <td>18.10000</td>\n",
       "    </tr>\n",
       "    <tr>\n",
       "      <th>1</th>\n",
       "      <td>3800.000000</td>\n",
       "      <td>3.950000</td>\n",
       "      <td>1.740000</td>\n",
       "      <td>18.60000</td>\n",
       "    </tr>\n",
       "    <tr>\n",
       "      <th>2</th>\n",
       "      <td>3250.000000</td>\n",
       "      <td>4.030000</td>\n",
       "      <td>1.800000</td>\n",
       "      <td>19.50000</td>\n",
       "    </tr>\n",
       "    <tr>\n",
       "      <th>3</th>\n",
       "      <td>4201.754386</td>\n",
       "      <td>4.392193</td>\n",
       "      <td>1.715117</td>\n",
       "      <td>20.09152</td>\n",
       "    </tr>\n",
       "    <tr>\n",
       "      <th>4</th>\n",
       "      <td>3450.000000</td>\n",
       "      <td>3.670000</td>\n",
       "      <td>1.930000</td>\n",
       "      <td>19.30000</td>\n",
       "    </tr>\n",
       "  </tbody>\n",
       "</table>\n",
       "</div>"
      ],
      "text/plain": [
       "   body_mass_g  culmen_length_cm  culmen_depth_cm  flipper_length_cm\n",
       "0  3750.000000          3.910000         1.870000           18.10000\n",
       "1  3800.000000          3.950000         1.740000           18.60000\n",
       "2  3250.000000          4.030000         1.800000           19.50000\n",
       "3  4201.754386          4.392193         1.715117           20.09152\n",
       "4  3450.000000          3.670000         1.930000           19.30000"
      ]
     },
     "execution_count": 29,
     "metadata": {},
     "output_type": "execute_result"
    }
   ],
   "source": [
    "X.head()"
   ]
  },
  {
   "cell_type": "code",
   "execution_count": 30,
   "id": "b96f9593",
   "metadata": {},
   "outputs": [
    {
     "data": {
      "text/plain": [
       "0    Adelie\n",
       "1    Adelie\n",
       "2    Adelie\n",
       "3    Adelie\n",
       "4    Adelie\n",
       "Name: species, dtype: object"
      ]
     },
     "execution_count": 30,
     "metadata": {},
     "output_type": "execute_result"
    }
   ],
   "source": [
    "y.head()"
   ]
  },
  {
   "cell_type": "code",
   "execution_count": 31,
   "id": "c56887ef",
   "metadata": {},
   "outputs": [],
   "source": [
    "scaler = MinMaxScaler() \n",
    "scaled_X=scaler.fit_transform(X)\n",
    "scaled_data_X=pd.DataFrame(scaled_X)"
   ]
  },
  {
   "cell_type": "code",
   "execution_count": 32,
   "id": "26ce7865",
   "metadata": {},
   "outputs": [],
   "source": [
    "X_train,X_test,y_train,y_test=train_test_split(scaled_data_X,y,test_size=0.3, random_state=40)"
   ]
  },
  {
   "cell_type": "code",
   "execution_count": 33,
   "id": "74ccf4b3",
   "metadata": {},
   "outputs": [
    {
     "data": {
      "text/plain": [
       "LogisticRegression(max_iter=1000, random_state=0)"
      ]
     },
     "execution_count": 33,
     "metadata": {},
     "output_type": "execute_result"
    }
   ],
   "source": [
    "classifier = LogisticRegression(solver='lbfgs', max_iter=1000,random_state=0)\n",
    "classifier.fit(X_train, y_train)"
   ]
  },
  {
   "cell_type": "code",
   "execution_count": 34,
   "id": "9a2b6f5f",
   "metadata": {},
   "outputs": [
    {
     "data": {
      "text/plain": [
       "array(['Adelie', 'Adelie', 'Adelie', 'Adelie', 'Gentoo', 'Gentoo',\n",
       "       'Gentoo', 'Gentoo', 'Gentoo', 'Gentoo', 'Chinstrap', 'Adelie',\n",
       "       'Gentoo', 'Adelie', 'Adelie', 'Gentoo', 'Adelie', 'Adelie',\n",
       "       'Gentoo', 'Adelie', 'Adelie', 'Adelie', 'Adelie', 'Gentoo',\n",
       "       'Adelie', 'Gentoo', 'Gentoo', 'Chinstrap', 'Gentoo', 'Adelie',\n",
       "       'Adelie', 'Adelie', 'Adelie', 'Adelie', 'Adelie', 'Adelie',\n",
       "       'Adelie', 'Adelie', 'Gentoo', 'Gentoo', 'Adelie', 'Chinstrap',\n",
       "       'Chinstrap', 'Adelie', 'Adelie', 'Chinstrap', 'Gentoo', 'Adelie',\n",
       "       'Adelie', 'Chinstrap', 'Gentoo', 'Adelie', 'Adelie', 'Adelie',\n",
       "       'Chinstrap', 'Chinstrap', 'Gentoo', 'Adelie', 'Adelie', 'Gentoo',\n",
       "       'Adelie', 'Adelie', 'Gentoo', 'Adelie', 'Gentoo', 'Gentoo',\n",
       "       'Gentoo', 'Adelie', 'Chinstrap', 'Adelie', 'Gentoo', 'Adelie',\n",
       "       'Chinstrap', 'Adelie', 'Gentoo', 'Chinstrap', 'Chinstrap',\n",
       "       'Chinstrap', 'Gentoo', 'Gentoo', 'Adelie', 'Adelie', 'Chinstrap',\n",
       "       'Gentoo', 'Gentoo', 'Adelie', 'Gentoo', 'Gentoo', 'Adelie',\n",
       "       'Chinstrap', 'Adelie', 'Gentoo', 'Adelie', 'Chinstrap', 'Gentoo',\n",
       "       'Gentoo', 'Adelie', 'Adelie', 'Chinstrap', 'Gentoo', 'Adelie',\n",
       "       'Chinstrap', 'Chinstrap', 'Adelie'], dtype=object)"
      ]
     },
     "execution_count": 34,
     "metadata": {},
     "output_type": "execute_result"
    }
   ],
   "source": [
    "preds=classifier.predict(X_test)\n",
    "\n",
    "preds"
   ]
  },
  {
   "cell_type": "code",
   "execution_count": 35,
   "id": "831e4725",
   "metadata": {},
   "outputs": [],
   "source": [
    "for x in range(len(preds)):\n",
    "   if (preds[x] == 1):\n",
    "      print(x, end=\"\\t\")"
   ]
  },
  {
   "cell_type": "code",
   "execution_count": 36,
   "id": "e9fddfa1",
   "metadata": {},
   "outputs": [
    {
     "name": "stdout",
     "output_type": "stream",
     "text": [
      "Accuracy: 0.96\n"
     ]
    }
   ],
   "source": [
    "print('Accuracy: {:.2f}'.format(classifier.score(X_test, y_test)))"
   ]
  },
  {
   "cell_type": "code",
   "execution_count": 37,
   "id": "8e4739af",
   "metadata": {},
   "outputs": [
    {
     "data": {
      "text/plain": [
       "array([[46,  0,  0],\n",
       "       [ 4, 19,  0],\n",
       "       [ 0,  0, 35]], dtype=int64)"
      ]
     },
     "execution_count": 37,
     "metadata": {},
     "output_type": "execute_result"
    }
   ],
   "source": [
    "confusion_matrix(y_test, preds)"
   ]
  },
  {
   "cell_type": "code",
   "execution_count": 38,
   "id": "fe83a695",
   "metadata": {},
   "outputs": [
    {
     "name": "stderr",
     "output_type": "stream",
     "text": [
      "C:\\Users\\x\\anaconda3\\envs\\class\\lib\\site-packages\\sklearn\\utils\\deprecation.py:87: FutureWarning: Function plot_confusion_matrix is deprecated; Function `plot_confusion_matrix` is deprecated in 1.0 and will be removed in 1.2. Use one of the class methods: ConfusionMatrixDisplay.from_predictions or ConfusionMatrixDisplay.from_estimator.\n",
      "  warnings.warn(msg, category=FutureWarning)\n"
     ]
    },
    {
     "data": {
      "image/png": "[encoded data removed]",
      "text/plain": [
       "<Figure size 432x288 with 2 Axes>"
      ]
     },
     "metadata": {
      "needs_background": "light"
     },
     "output_type": "display_data"
    }
   ],
   "source": [
    "plot_confusion_matrix(classifier, X_test, y_test)  \n",
    "plt.show()"
   ]
  },
  {
   "cell_type": "markdown",
   "id": "0f8afd6d",
   "metadata": {},
   "source": [
    "### BONUS! Encore, but with all the variables, AND pairwise scatterplots"
   ]
  },
  {
   "cell_type": "code",
   "execution_count": 39,
   "id": "7b993109",
   "metadata": {},
   "outputs": [
    {
     "data": {
      "text/html": [
       "<div>\n",
       "<style scoped>\n",
       "    .dataframe tbody tr th:only-of-type {\n",
       "        vertical-align: middle;\n",
       "    }\n",
       "\n",
       "    .dataframe tbody tr th {\n",
       "        vertical-align: top;\n",
       "    }\n",
       "\n",
       "    .dataframe thead th {\n",
       "        text-align: right;\n",
       "    }\n",
       "</style>\n",
       "<table border=\"1\" class=\"dataframe\">\n",
       "  <thead>\n",
       "    <tr style=\"text-align: right;\">\n",
       "      <th></th>\n",
       "      <th>island</th>\n",
       "      <th>sex</th>\n",
       "    </tr>\n",
       "  </thead>\n",
       "  <tbody>\n",
       "    <tr>\n",
       "      <th>0</th>\n",
       "      <td>Torgersen</td>\n",
       "      <td>MALE</td>\n",
       "    </tr>\n",
       "    <tr>\n",
       "      <th>1</th>\n",
       "      <td>Torgersen</td>\n",
       "      <td>FEMALE</td>\n",
       "    </tr>\n",
       "    <tr>\n",
       "      <th>2</th>\n",
       "      <td>Torgersen</td>\n",
       "      <td>FEMALE</td>\n",
       "    </tr>\n",
       "    <tr>\n",
       "      <th>3</th>\n",
       "      <td>Torgersen</td>\n",
       "      <td>Unknown</td>\n",
       "    </tr>\n",
       "    <tr>\n",
       "      <th>4</th>\n",
       "      <td>Torgersen</td>\n",
       "      <td>FEMALE</td>\n",
       "    </tr>\n",
       "  </tbody>\n",
       "</table>\n",
       "</div>"
      ],
      "text/plain": [
       "      island      sex\n",
       "0  Torgersen     MALE\n",
       "1  Torgersen   FEMALE\n",
       "2  Torgersen   FEMALE\n",
       "3  Torgersen  Unknown\n",
       "4  Torgersen   FEMALE"
      ]
     },
     "execution_count": 39,
     "metadata": {},
     "output_type": "execute_result"
    }
   ],
   "source": [
    "X_cat.head()\n",
    "\n",
    "# data retrieved from before dropping!"
   ]
  },
  {
   "cell_type": "code",
   "execution_count": 40,
   "id": "c7c6a69a",
   "metadata": {},
   "outputs": [],
   "source": [
    "X_dummies=pd.get_dummies(X_cat, drop_first=True)"
   ]
  },
  {
   "cell_type": "code",
   "execution_count": 41,
   "id": "137f49ef",
   "metadata": {},
   "outputs": [],
   "source": [
    "dummified_X=pd.DataFrame(X_dummies)"
   ]
  },
  {
   "cell_type": "code",
   "execution_count": 42,
   "id": "51243d59",
   "metadata": {},
   "outputs": [
    {
     "data": {
      "text/plain": [
       "(344, 8)"
      ]
     },
     "execution_count": 42,
     "metadata": {},
     "output_type": "execute_result"
    }
   ],
   "source": [
    "X_final=pd.concat((scaled_data_X,dummified_X), axis=1)\n",
    "X_final.shape"
   ]
  },
  {
   "cell_type": "code",
   "execution_count": 43,
   "id": "e3d59e25",
   "metadata": {},
   "outputs": [
    {
     "name": "stdout",
     "output_type": "stream",
     "text": [
      "<class 'pandas.core.frame.DataFrame'>\n",
      "RangeIndex: 344 entries, 0 to 343\n",
      "Data columns (total 8 columns):\n",
      " #   Column            Non-Null Count  Dtype  \n",
      "---  ------            --------------  -----  \n",
      " 0   0                 344 non-null    float64\n",
      " 1   1                 344 non-null    float64\n",
      " 2   2                 344 non-null    float64\n",
      " 3   3                 344 non-null    float64\n",
      " 4   island_Dream      344 non-null    uint8  \n",
      " 5   island_Torgersen  344 non-null    uint8  \n",
      " 6   sex_MALE          344 non-null    uint8  \n",
      " 7   sex_Unknown       344 non-null    uint8  \n",
      "dtypes: float64(4), uint8(4)\n",
      "memory usage: 12.2 KB\n"
     ]
    }
   ],
   "source": [
    "X_final.info()"
   ]
  },
  {
   "cell_type": "code",
   "execution_count": 45,
   "id": "cf617e1f",
   "metadata": {},
   "outputs": [],
   "source": [
    "Xfull_train,Xfull_test,yfull_train,yfull_test=train_test_split(X_final,y,test_size=0.3, random_state=40)"
   ]
  },
  {
   "cell_type": "code",
   "execution_count": 46,
   "id": "172da234",
   "metadata": {},
   "outputs": [
    {
     "name": "stderr",
     "output_type": "stream",
     "text": [
      "C:\\Users\\x\\anaconda3\\envs\\class\\lib\\site-packages\\sklearn\\utils\\validation.py:1688: FutureWarning: Feature names only support names that are all strings. Got feature names with dtypes: ['int', 'str']. An error will be raised in 1.2.\n",
      "  warnings.warn(\n"
     ]
    },
    {
     "data": {
      "text/plain": [
       "LogisticRegression(max_iter=1000, random_state=0)"
      ]
     },
     "execution_count": 46,
     "metadata": {},
     "output_type": "execute_result"
    }
   ],
   "source": [
    "classifierfull = LogisticRegression(solver='lbfgs', max_iter=1000,random_state=0)\n",
    "classifierfull.fit(Xfull_train, yfull_train)"
   ]
  },
  {
   "cell_type": "code",
   "execution_count": 48,
   "id": "d576ffc6",
   "metadata": {},
   "outputs": [
    {
     "name": "stderr",
     "output_type": "stream",
     "text": [
      "C:\\Users\\x\\anaconda3\\envs\\class\\lib\\site-packages\\sklearn\\utils\\validation.py:1688: FutureWarning: Feature names only support names that are all strings. Got feature names with dtypes: ['int', 'str']. An error will be raised in 1.2.\n",
      "  warnings.warn(\n"
     ]
    },
    {
     "data": {
      "text/plain": [
       "array(['Adelie', 'Chinstrap', 'Chinstrap', 'Chinstrap', 'Gentoo',\n",
       "       'Gentoo', 'Gentoo', 'Gentoo', 'Gentoo', 'Gentoo', 'Chinstrap',\n",
       "       'Gentoo', 'Gentoo', 'Gentoo', 'Gentoo', 'Gentoo', 'Gentoo',\n",
       "       'Adelie', 'Gentoo', 'Chinstrap', 'Chinstrap', 'Gentoo', 'Adelie',\n",
       "       'Gentoo', 'Adelie', 'Gentoo', 'Gentoo', 'Chinstrap', 'Gentoo',\n",
       "       'Chinstrap', 'Adelie', 'Adelie', 'Gentoo', 'Chinstrap', 'Gentoo',\n",
       "       'Chinstrap', 'Adelie', 'Chinstrap', 'Gentoo', 'Gentoo',\n",
       "       'Chinstrap', 'Chinstrap', 'Chinstrap', 'Gentoo', 'Adelie',\n",
       "       'Chinstrap', 'Gentoo', 'Chinstrap', 'Gentoo', 'Chinstrap',\n",
       "       'Gentoo', 'Chinstrap', 'Chinstrap', 'Gentoo', 'Chinstrap',\n",
       "       'Chinstrap', 'Gentoo', 'Adelie', 'Gentoo', 'Gentoo', 'Adelie',\n",
       "       'Chinstrap', 'Gentoo', 'Chinstrap', 'Gentoo', 'Gentoo', 'Gentoo',\n",
       "       'Adelie', 'Chinstrap', 'Gentoo', 'Gentoo', 'Chinstrap',\n",
       "       'Chinstrap', 'Adelie', 'Gentoo', 'Chinstrap', 'Chinstrap',\n",
       "       'Chinstrap', 'Gentoo', 'Gentoo', 'Adelie', 'Gentoo', 'Chinstrap',\n",
       "       'Gentoo', 'Gentoo', 'Chinstrap', 'Gentoo', 'Gentoo', 'Chinstrap',\n",
       "       'Chinstrap', 'Gentoo', 'Gentoo', 'Gentoo', 'Chinstrap', 'Gentoo',\n",
       "       'Gentoo', 'Chinstrap', 'Gentoo', 'Chinstrap', 'Gentoo',\n",
       "       'Chinstrap', 'Chinstrap', 'Chinstrap', 'Adelie'], dtype=object)"
      ]
     },
     "execution_count": 48,
     "metadata": {},
     "output_type": "execute_result"
    }
   ],
   "source": [
    "preds_full=classifierfull.predict(Xfull_test)\n",
    "\n",
    "preds_full"
   ]
  },
  {
   "cell_type": "code",
   "execution_count": 49,
   "id": "83581c69",
   "metadata": {},
   "outputs": [],
   "source": [
    "for x in range(len(preds_full)):\n",
    "   if (preds_full[x] == 1):\n",
    "      print(x, end=\"\\t\")"
   ]
  },
  {
   "cell_type": "code",
   "execution_count": 50,
   "id": "f1f85f9d",
   "metadata": {},
   "outputs": [
    {
     "name": "stdout",
     "output_type": "stream",
     "text": [
      "Accuracy: 0.69\n"
     ]
    },
    {
     "name": "stderr",
     "output_type": "stream",
     "text": [
      "C:\\Users\\x\\anaconda3\\envs\\class\\lib\\site-packages\\sklearn\\utils\\validation.py:1688: FutureWarning: Feature names only support names that are all strings. Got feature names with dtypes: ['int', 'str']. An error will be raised in 1.2.\n",
      "  warnings.warn(\n"
     ]
    }
   ],
   "source": [
    "print('Accuracy: {:.2f}'.format(classifierfull.score(Xfull_test, yfull_test)))"
   ]
  },
  {
   "cell_type": "code",
   "execution_count": 51,
   "id": "10bd50bb",
   "metadata": {},
   "outputs": [
    {
     "data": {
      "text/plain": [
       "array([[14, 16, 16],\n",
       "       [ 0, 23,  0],\n",
       "       [ 0,  0, 35]], dtype=int64)"
      ]
     },
     "execution_count": 51,
     "metadata": {},
     "output_type": "execute_result"
    }
   ],
   "source": [
    "confusion_matrix(yfull_test, preds_full)"
   ]
  },
  {
   "cell_type": "code",
   "execution_count": 53,
   "id": "dea6a209",
   "metadata": {},
   "outputs": [
    {
     "name": "stderr",
     "output_type": "stream",
     "text": [
      "C:\\Users\\x\\anaconda3\\envs\\class\\lib\\site-packages\\sklearn\\utils\\deprecation.py:87: FutureWarning: Function plot_confusion_matrix is deprecated; Function `plot_confusion_matrix` is deprecated in 1.0 and will be removed in 1.2. Use one of the class methods: ConfusionMatrixDisplay.from_predictions or ConfusionMatrixDisplay.from_estimator.\n",
      "  warnings.warn(msg, category=FutureWarning)\n",
      "C:\\Users\\x\\anaconda3\\envs\\class\\lib\\site-packages\\sklearn\\utils\\validation.py:1688: FutureWarning: Feature names only support names that are all strings. Got feature names with dtypes: ['int', 'str']. An error will be raised in 1.2.\n",
      "  warnings.warn(\n"
     ]
    },
    {
     "data": {
      "image/png": "[encoded data removed]",
      "text/plain": [
       "<Figure size 432x288 with 2 Axes>"
      ]
     },
     "metadata": {
      "needs_background": "light"
     },
     "output_type": "display_data"
    }
   ],
   "source": [
    "plot_confusion_matrix(classifierfull, Xfull_test, yfull_test)  \n",
    "plt.show()"
   ]
  },
  {
   "cell_type": "code",
   "execution_count": 47,
   "id": "3acdd434",
   "metadata": {},
   "outputs": [
    {
     "data": {
      "text/plain": [
       "<seaborn.axisgrid.PairGrid at 0x22a80785d30>"
      ]
     },
     "execution_count": 47,
     "metadata": {},
     "output_type": "execute_result"
    },
    {
     "data": {
      "image/png": "[encoded data removed]",
      "text/plain": [
       "<Figure size 804.125x720 with 10 Axes>"
      ]
     },
     "metadata": {
      "needs_background": "light"
     },
     "output_type": "display_data"
    }
   ],
   "source": [
    "sns.pairplot(data, hue='species', corner=True, diag_kind='None')"
   ]
  }
 ],
 "metadata": {
  "kernelspec": {
   "display_name": "Python 3 (ipykernel)",
   "language": "python",
   "name": "python3"
  },
  "language_info": {
   "codemirror_mode": {
    "name": "ipython",
    "version": 3
   },
   "file_extension": ".py",
   "mimetype": "text/x-python",
   "name": "python",
   "nbconvert_exporter": "python",
   "pygments_lexer": "ipython3",
   "version": "3.9.7"
  },
  "toc": {
   "base_numbering": 1,
   "nav_menu": {},
   "number_sections": true,
   "sideBar": true,
   "skip_h1_title": false,
   "title_cell": "Table of Contents",
   "title_sidebar": "Contents",
   "toc_cell": false,
   "toc_position": {},
   "toc_section_display": true,
   "toc_window_display": false
  },
  "varInspector": {
   "cols": {
    "lenName": 16,
    "lenType": 16,
    "lenVar": 40
   },
   "kernels_config": {
    "python": {
     "delete_cmd_postfix": "",
     "delete_cmd_prefix": "del ",
     "library": "var_list.py",
     "varRefreshCmd": "print(var_dic_list())"
    },
    "r": {
     "delete_cmd_postfix": ") ",
     "delete_cmd_prefix": "rm(",
     "library": "var_list.r",
     "varRefreshCmd": "cat(var_dic_list()) "
    }
   },
   "types_to_exclude": [
    "module",
    "function",
    "builtin_function_or_method",
    "instance",
    "_Feature"
   ],
   "window_display": false
  }
 },
 "nbformat": 4,
 "nbformat_minor": 5
}
